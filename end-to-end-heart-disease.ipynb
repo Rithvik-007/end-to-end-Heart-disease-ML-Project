{
 "cells": [
  {
   "cell_type": "markdown",
   "id": "85788cae-e130-4849-ac0e-534a2e0807ac",
   "metadata": {},
   "source": [
    "# First ML project \n",
    "\n",
    "* We will be working on a heart disease dataset and our work is to predict whether people having heart disease or not, using the features given in the\n",
    "  dataset.\n",
    "\n",
    "### Steps to be done \n",
    "\n",
    "## 1. Define the problem:\n",
    "\n",
    "* We need to perdict whether a patient has heart disease or not. This problem comes under classification problem. \n",
    "\n",
    "## 2. Data collection:\n",
    "\n",
    "* The data is download from kaggle since it is a sample project. Future projects may contain real world datasets.\n",
    "* The link for the dataset is https://www.kaggle.com/datasets/sumaiyatasmeem/heart-disease-classification-dataset\n",
    "    \n",
    "## 3. Load the dataset and Preprocess\n",
    "\n",
    "### 3.1 Load the data\n",
    "* Understand the data before doing anything(this is the most important part of the project).\n",
    "* Then load the data where `X` be the feature variable and `y` be the target variable.\n",
    "### 3.2 Preprocessing the data\n",
    "* Check for any missing values.\n",
    "* If necessary convert the categorical values in numerical values.\n",
    "\n",
    "## 4. Split the data into Train and Test\n",
    "\n",
    "## 5. Chose the right model and fit the model\n",
    "* chose the model acc to the dataset and probelm\n",
    "* fit the model using the training data\n",
    "\n",
    "## 6. Tune the model with hyperparameters \n",
    "\n",
    "## 7. Evaluate the model \n",
    "\n",
    "## 8. Deploy the model after testing "
   ]
  },
  {
   "cell_type": "code",
   "execution_count": 60,
   "id": "0359c47c-3179-483c-9e5a-891a4a640c2b",
   "metadata": {},
   "outputs": [],
   "source": [
    "## Lets get started...................\n",
    "\n",
    "## import all the package and libraries needed\n",
    "\n",
    "## Data packages\n",
    "import pandas as pd\n",
    "import numpy as np\n",
    "import matplotlib.pyplot as plt\n",
    "import seaborn as sns\n",
    "\n",
    "## dealing with ML \n",
    "from sklearn.model_selection import train_test_split, cross_val_score, RandomizedSearchCV, GridSearchCV\n",
    "from sklearn.preprocessing import OneHotEncoder\n",
    "from sklearn.compose import ColumnTransformer\n",
    "from sklearn.impute import SimpleImputer\n",
    "from sklearn.pipeline import Pipeline\n",
    "\n",
    "## Model\n",
    "from sklearn.ensemble import RandomForestClassifier\n",
    "from sklearn.linear_model import LogisticRegression\n",
    "from sklearn.neighbors import KNeighborsClassifier\n",
    "\n",
    "## Evaluation metrics\n",
    "from sklearn.metrics import accuracy_score, precision_score, recall_score, f1_score\n",
    "from sklearn.metrics import RocCurveDisplay, confusion_matrix, classification_report\n"
   ]
  },
  {
   "cell_type": "markdown",
   "id": "359a5811-9dc4-48d0-8626-27dad72deaa0",
   "metadata": {},
   "source": [
    "# 2. Data collection and analysis  "
   ]
  },
  {
   "cell_type": "code",
   "execution_count": 2,
   "id": "6d835edb-c8ee-44df-89e9-86cec87addb7",
   "metadata": {},
   "outputs": [
    {
     "data": {
      "text/html": [
       "<div>\n",
       "<style scoped>\n",
       "    .dataframe tbody tr th:only-of-type {\n",
       "        vertical-align: middle;\n",
       "    }\n",
       "\n",
       "    .dataframe tbody tr th {\n",
       "        vertical-align: top;\n",
       "    }\n",
       "\n",
       "    .dataframe thead th {\n",
       "        text-align: right;\n",
       "    }\n",
       "</style>\n",
       "<table border=\"1\" class=\"dataframe\">\n",
       "  <thead>\n",
       "    <tr style=\"text-align: right;\">\n",
       "      <th></th>\n",
       "      <th>Unnamed: 0</th>\n",
       "      <th>age</th>\n",
       "      <th>sex</th>\n",
       "      <th>cp</th>\n",
       "      <th>trestbps</th>\n",
       "      <th>chol</th>\n",
       "      <th>fbs</th>\n",
       "      <th>restecg</th>\n",
       "      <th>thalach</th>\n",
       "      <th>exang</th>\n",
       "      <th>oldpeak</th>\n",
       "      <th>slope</th>\n",
       "      <th>ca</th>\n",
       "      <th>thal</th>\n",
       "      <th>target</th>\n",
       "    </tr>\n",
       "  </thead>\n",
       "  <tbody>\n",
       "    <tr>\n",
       "      <th>0</th>\n",
       "      <td>0</td>\n",
       "      <td>63</td>\n",
       "      <td>male</td>\n",
       "      <td>3</td>\n",
       "      <td>145.0</td>\n",
       "      <td>233.0</td>\n",
       "      <td>1</td>\n",
       "      <td>0</td>\n",
       "      <td>150.0</td>\n",
       "      <td>0</td>\n",
       "      <td>2.3</td>\n",
       "      <td>0</td>\n",
       "      <td>0</td>\n",
       "      <td>1</td>\n",
       "      <td>yes</td>\n",
       "    </tr>\n",
       "    <tr>\n",
       "      <th>1</th>\n",
       "      <td>1</td>\n",
       "      <td>37</td>\n",
       "      <td>male</td>\n",
       "      <td>2</td>\n",
       "      <td>130.0</td>\n",
       "      <td>250.0</td>\n",
       "      <td>0</td>\n",
       "      <td>1</td>\n",
       "      <td>187.0</td>\n",
       "      <td>0</td>\n",
       "      <td>3.5</td>\n",
       "      <td>0</td>\n",
       "      <td>0</td>\n",
       "      <td>2</td>\n",
       "      <td>yes</td>\n",
       "    </tr>\n",
       "    <tr>\n",
       "      <th>2</th>\n",
       "      <td>2</td>\n",
       "      <td>41</td>\n",
       "      <td>female</td>\n",
       "      <td>1</td>\n",
       "      <td>130.0</td>\n",
       "      <td>204.0</td>\n",
       "      <td>0</td>\n",
       "      <td>0</td>\n",
       "      <td>172.0</td>\n",
       "      <td>0</td>\n",
       "      <td>1.4</td>\n",
       "      <td>2</td>\n",
       "      <td>0</td>\n",
       "      <td>2</td>\n",
       "      <td>yes</td>\n",
       "    </tr>\n",
       "    <tr>\n",
       "      <th>3</th>\n",
       "      <td>3</td>\n",
       "      <td>56</td>\n",
       "      <td>male</td>\n",
       "      <td>1</td>\n",
       "      <td>120.0</td>\n",
       "      <td>236.0</td>\n",
       "      <td>0</td>\n",
       "      <td>1</td>\n",
       "      <td>178.0</td>\n",
       "      <td>0</td>\n",
       "      <td>0.8</td>\n",
       "      <td>2</td>\n",
       "      <td>0</td>\n",
       "      <td>2</td>\n",
       "      <td>yes</td>\n",
       "    </tr>\n",
       "    <tr>\n",
       "      <th>4</th>\n",
       "      <td>4</td>\n",
       "      <td>57</td>\n",
       "      <td>female</td>\n",
       "      <td>0</td>\n",
       "      <td>NaN</td>\n",
       "      <td>354.0</td>\n",
       "      <td>0</td>\n",
       "      <td>1</td>\n",
       "      <td>163.0</td>\n",
       "      <td>1</td>\n",
       "      <td>0.6</td>\n",
       "      <td>2</td>\n",
       "      <td>0</td>\n",
       "      <td>2</td>\n",
       "      <td>yes</td>\n",
       "    </tr>\n",
       "  </tbody>\n",
       "</table>\n",
       "</div>"
      ],
      "text/plain": [
       "   Unnamed: 0  age     sex  cp  trestbps   chol  fbs  restecg  thalach  exang  \\\n",
       "0           0   63    male   3     145.0  233.0    1        0    150.0      0   \n",
       "1           1   37    male   2     130.0  250.0    0        1    187.0      0   \n",
       "2           2   41  female   1     130.0  204.0    0        0    172.0      0   \n",
       "3           3   56    male   1     120.0  236.0    0        1    178.0      0   \n",
       "4           4   57  female   0       NaN  354.0    0        1    163.0      1   \n",
       "\n",
       "   oldpeak  slope  ca  thal target  \n",
       "0      2.3      0   0     1    yes  \n",
       "1      3.5      0   0     2    yes  \n",
       "2      1.4      2   0     2    yes  \n",
       "3      0.8      2   0     2    yes  \n",
       "4      0.6      2   0     2    yes  "
      ]
     },
     "execution_count": 2,
     "metadata": {},
     "output_type": "execute_result"
    }
   ],
   "source": [
    "## Data analysis\n",
    "data_unmodified = pd.read_csv(\"heart-disease .csv\")\n",
    "data_unmodified.head()"
   ]
  },
  {
   "cell_type": "code",
   "execution_count": 3,
   "id": "c6e72fc3-3d99-4dbd-b567-243a70eb42a0",
   "metadata": {},
   "outputs": [
    {
     "data": {
      "text/html": [
       "<div>\n",
       "<style scoped>\n",
       "    .dataframe tbody tr th:only-of-type {\n",
       "        vertical-align: middle;\n",
       "    }\n",
       "\n",
       "    .dataframe tbody tr th {\n",
       "        vertical-align: top;\n",
       "    }\n",
       "\n",
       "    .dataframe thead th {\n",
       "        text-align: right;\n",
       "    }\n",
       "</style>\n",
       "<table border=\"1\" class=\"dataframe\">\n",
       "  <thead>\n",
       "    <tr style=\"text-align: right;\">\n",
       "      <th></th>\n",
       "      <th>age</th>\n",
       "      <th>sex</th>\n",
       "      <th>cp</th>\n",
       "      <th>trestbps</th>\n",
       "      <th>chol</th>\n",
       "      <th>fbs</th>\n",
       "      <th>restecg</th>\n",
       "      <th>thalach</th>\n",
       "      <th>exang</th>\n",
       "      <th>oldpeak</th>\n",
       "      <th>slope</th>\n",
       "      <th>ca</th>\n",
       "      <th>thal</th>\n",
       "      <th>target</th>\n",
       "    </tr>\n",
       "  </thead>\n",
       "  <tbody>\n",
       "    <tr>\n",
       "      <th>0</th>\n",
       "      <td>63</td>\n",
       "      <td>male</td>\n",
       "      <td>3</td>\n",
       "      <td>145.0</td>\n",
       "      <td>233.0</td>\n",
       "      <td>1</td>\n",
       "      <td>0</td>\n",
       "      <td>150.0</td>\n",
       "      <td>0</td>\n",
       "      <td>2.3</td>\n",
       "      <td>0</td>\n",
       "      <td>0</td>\n",
       "      <td>1</td>\n",
       "      <td>yes</td>\n",
       "    </tr>\n",
       "    <tr>\n",
       "      <th>1</th>\n",
       "      <td>37</td>\n",
       "      <td>male</td>\n",
       "      <td>2</td>\n",
       "      <td>130.0</td>\n",
       "      <td>250.0</td>\n",
       "      <td>0</td>\n",
       "      <td>1</td>\n",
       "      <td>187.0</td>\n",
       "      <td>0</td>\n",
       "      <td>3.5</td>\n",
       "      <td>0</td>\n",
       "      <td>0</td>\n",
       "      <td>2</td>\n",
       "      <td>yes</td>\n",
       "    </tr>\n",
       "    <tr>\n",
       "      <th>2</th>\n",
       "      <td>41</td>\n",
       "      <td>female</td>\n",
       "      <td>1</td>\n",
       "      <td>130.0</td>\n",
       "      <td>204.0</td>\n",
       "      <td>0</td>\n",
       "      <td>0</td>\n",
       "      <td>172.0</td>\n",
       "      <td>0</td>\n",
       "      <td>1.4</td>\n",
       "      <td>2</td>\n",
       "      <td>0</td>\n",
       "      <td>2</td>\n",
       "      <td>yes</td>\n",
       "    </tr>\n",
       "    <tr>\n",
       "      <th>3</th>\n",
       "      <td>56</td>\n",
       "      <td>male</td>\n",
       "      <td>1</td>\n",
       "      <td>120.0</td>\n",
       "      <td>236.0</td>\n",
       "      <td>0</td>\n",
       "      <td>1</td>\n",
       "      <td>178.0</td>\n",
       "      <td>0</td>\n",
       "      <td>0.8</td>\n",
       "      <td>2</td>\n",
       "      <td>0</td>\n",
       "      <td>2</td>\n",
       "      <td>yes</td>\n",
       "    </tr>\n",
       "    <tr>\n",
       "      <th>4</th>\n",
       "      <td>57</td>\n",
       "      <td>female</td>\n",
       "      <td>0</td>\n",
       "      <td>NaN</td>\n",
       "      <td>354.0</td>\n",
       "      <td>0</td>\n",
       "      <td>1</td>\n",
       "      <td>163.0</td>\n",
       "      <td>1</td>\n",
       "      <td>0.6</td>\n",
       "      <td>2</td>\n",
       "      <td>0</td>\n",
       "      <td>2</td>\n",
       "      <td>yes</td>\n",
       "    </tr>\n",
       "  </tbody>\n",
       "</table>\n",
       "</div>"
      ],
      "text/plain": [
       "   age     sex  cp  trestbps   chol  fbs  restecg  thalach  exang  oldpeak  \\\n",
       "0   63    male   3     145.0  233.0    1        0    150.0      0      2.3   \n",
       "1   37    male   2     130.0  250.0    0        1    187.0      0      3.5   \n",
       "2   41  female   1     130.0  204.0    0        0    172.0      0      1.4   \n",
       "3   56    male   1     120.0  236.0    0        1    178.0      0      0.8   \n",
       "4   57  female   0       NaN  354.0    0        1    163.0      1      0.6   \n",
       "\n",
       "   slope  ca  thal target  \n",
       "0      0   0     1    yes  \n",
       "1      0   0     2    yes  \n",
       "2      2   0     2    yes  \n",
       "3      2   0     2    yes  \n",
       "4      2   0     2    yes  "
      ]
     },
     "execution_count": 3,
     "metadata": {},
     "output_type": "execute_result"
    }
   ],
   "source": [
    "data_1=data_unmodified.drop(columns=\"Unnamed: 0\", axis = 1)\n",
    "data_1.head()"
   ]
  },
  {
   "cell_type": "code",
   "execution_count": 4,
   "id": "128b2e23-7b2c-4b4d-9644-84a61ea7081c",
   "metadata": {},
   "outputs": [
    {
     "data": {
      "text/plain": [
       "(303, 14)"
      ]
     },
     "execution_count": 4,
     "metadata": {},
     "output_type": "execute_result"
    }
   ],
   "source": [
    "data_1.shape"
   ]
  },
  {
   "cell_type": "code",
   "execution_count": 5,
   "id": "37e2197d-2eac-4aa2-995c-dbe2904168d9",
   "metadata": {},
   "outputs": [
    {
     "data": {
      "text/plain": [
       "age           int64\n",
       "sex          object\n",
       "cp            int64\n",
       "trestbps    float64\n",
       "chol        float64\n",
       "fbs           int64\n",
       "restecg       int64\n",
       "thalach     float64\n",
       "exang         int64\n",
       "oldpeak     float64\n",
       "slope         int64\n",
       "ca            int64\n",
       "thal          int64\n",
       "target       object\n",
       "dtype: object"
      ]
     },
     "execution_count": 5,
     "metadata": {},
     "output_type": "execute_result"
    }
   ],
   "source": [
    "data_1.dtypes"
   ]
  },
  {
   "cell_type": "code",
   "execution_count": 6,
   "id": "cdf9f176-e23c-4411-a43a-0e613e1d5775",
   "metadata": {},
   "outputs": [
    {
     "data": {
      "text/plain": [
       "target\n",
       "yes    165\n",
       "no     138\n",
       "Name: count, dtype: int64"
      ]
     },
     "execution_count": 6,
     "metadata": {},
     "output_type": "execute_result"
    }
   ],
   "source": [
    "## Lets find the different classes 1 = yes and 0 = no\n",
    "data_1[\"target\"].value_counts()"
   ]
  },
  {
   "cell_type": "code",
   "execution_count": 7,
   "id": "b4e7e4ef-bce5-48cc-b9de-bc7804566ef6",
   "metadata": {},
   "outputs": [
    {
     "data": {
      "image/png": "[encoded data removed]",
      "text/plain": [
       "<Figure size 640x480 with 1 Axes>"
      ]
     },
     "metadata": {},
     "output_type": "display_data"
    }
   ],
   "source": [
    "data_1[\"target\"].value_counts().plot(kind = \"bar\");"
   ]
  },
  {
   "cell_type": "code",
   "execution_count": 8,
   "id": "9d4852b1-a210-41fb-bb21-181cf0c0f5f4",
   "metadata": {
    "scrolled": true
   },
   "outputs": [
    {
     "data": {
      "text/plain": [
       "age         0\n",
       "sex         0\n",
       "cp          0\n",
       "trestbps    4\n",
       "chol        1\n",
       "fbs         0\n",
       "restecg     0\n",
       "thalach     5\n",
       "exang       0\n",
       "oldpeak     0\n",
       "slope       0\n",
       "ca          0\n",
       "thal        0\n",
       "target      0\n",
       "dtype: int64"
      ]
     },
     "execution_count": 8,
     "metadata": {},
     "output_type": "execute_result"
    }
   ],
   "source": [
    "data_1.isna().sum()"
   ]
  },
  {
   "cell_type": "code",
   "execution_count": 9,
   "id": "6837f6da-93d6-4d8e-a29c-a97db859b3f3",
   "metadata": {},
   "outputs": [
    {
     "data": {
      "text/html": [
       "<div>\n",
       "<style scoped>\n",
       "    .dataframe tbody tr th:only-of-type {\n",
       "        vertical-align: middle;\n",
       "    }\n",
       "\n",
       "    .dataframe tbody tr th {\n",
       "        vertical-align: top;\n",
       "    }\n",
       "\n",
       "    .dataframe thead th {\n",
       "        text-align: right;\n",
       "    }\n",
       "</style>\n",
       "<table border=\"1\" class=\"dataframe\">\n",
       "  <thead>\n",
       "    <tr style=\"text-align: right;\">\n",
       "      <th></th>\n",
       "      <th>age</th>\n",
       "      <th>sex</th>\n",
       "      <th>cp</th>\n",
       "      <th>trestbps</th>\n",
       "      <th>chol</th>\n",
       "      <th>fbs</th>\n",
       "      <th>restecg</th>\n",
       "      <th>thalach</th>\n",
       "      <th>exang</th>\n",
       "      <th>oldpeak</th>\n",
       "      <th>slope</th>\n",
       "      <th>ca</th>\n",
       "      <th>thal</th>\n",
       "      <th>target</th>\n",
       "    </tr>\n",
       "  </thead>\n",
       "  <tbody>\n",
       "    <tr>\n",
       "      <th>0</th>\n",
       "      <td>63.0</td>\n",
       "      <td>1.0</td>\n",
       "      <td>3.0</td>\n",
       "      <td>145.000000</td>\n",
       "      <td>233.0</td>\n",
       "      <td>1.0</td>\n",
       "      <td>0.0</td>\n",
       "      <td>150.0</td>\n",
       "      <td>0.0</td>\n",
       "      <td>2.3</td>\n",
       "      <td>0.0</td>\n",
       "      <td>0.0</td>\n",
       "      <td>1.0</td>\n",
       "      <td>1.0</td>\n",
       "    </tr>\n",
       "    <tr>\n",
       "      <th>1</th>\n",
       "      <td>37.0</td>\n",
       "      <td>1.0</td>\n",
       "      <td>2.0</td>\n",
       "      <td>130.000000</td>\n",
       "      <td>250.0</td>\n",
       "      <td>0.0</td>\n",
       "      <td>1.0</td>\n",
       "      <td>187.0</td>\n",
       "      <td>0.0</td>\n",
       "      <td>3.5</td>\n",
       "      <td>0.0</td>\n",
       "      <td>0.0</td>\n",
       "      <td>2.0</td>\n",
       "      <td>1.0</td>\n",
       "    </tr>\n",
       "    <tr>\n",
       "      <th>2</th>\n",
       "      <td>41.0</td>\n",
       "      <td>0.0</td>\n",
       "      <td>1.0</td>\n",
       "      <td>130.000000</td>\n",
       "      <td>204.0</td>\n",
       "      <td>0.0</td>\n",
       "      <td>0.0</td>\n",
       "      <td>172.0</td>\n",
       "      <td>0.0</td>\n",
       "      <td>1.4</td>\n",
       "      <td>2.0</td>\n",
       "      <td>0.0</td>\n",
       "      <td>2.0</td>\n",
       "      <td>1.0</td>\n",
       "    </tr>\n",
       "    <tr>\n",
       "      <th>3</th>\n",
       "      <td>56.0</td>\n",
       "      <td>1.0</td>\n",
       "      <td>1.0</td>\n",
       "      <td>120.000000</td>\n",
       "      <td>236.0</td>\n",
       "      <td>0.0</td>\n",
       "      <td>1.0</td>\n",
       "      <td>178.0</td>\n",
       "      <td>0.0</td>\n",
       "      <td>0.8</td>\n",
       "      <td>2.0</td>\n",
       "      <td>0.0</td>\n",
       "      <td>2.0</td>\n",
       "      <td>1.0</td>\n",
       "    </tr>\n",
       "    <tr>\n",
       "      <th>4</th>\n",
       "      <td>57.0</td>\n",
       "      <td>0.0</td>\n",
       "      <td>0.0</td>\n",
       "      <td>131.712375</td>\n",
       "      <td>354.0</td>\n",
       "      <td>0.0</td>\n",
       "      <td>1.0</td>\n",
       "      <td>163.0</td>\n",
       "      <td>1.0</td>\n",
       "      <td>0.6</td>\n",
       "      <td>2.0</td>\n",
       "      <td>0.0</td>\n",
       "      <td>2.0</td>\n",
       "      <td>1.0</td>\n",
       "    </tr>\n",
       "  </tbody>\n",
       "</table>\n",
       "</div>"
      ],
      "text/plain": [
       "    age  sex   cp    trestbps   chol  fbs  restecg  thalach  exang  oldpeak  \\\n",
       "0  63.0  1.0  3.0  145.000000  233.0  1.0      0.0    150.0    0.0      2.3   \n",
       "1  37.0  1.0  2.0  130.000000  250.0  0.0      1.0    187.0    0.0      3.5   \n",
       "2  41.0  0.0  1.0  130.000000  204.0  0.0      0.0    172.0    0.0      1.4   \n",
       "3  56.0  1.0  1.0  120.000000  236.0  0.0      1.0    178.0    0.0      0.8   \n",
       "4  57.0  0.0  0.0  131.712375  354.0  0.0      1.0    163.0    1.0      0.6   \n",
       "\n",
       "   slope   ca  thal  target  \n",
       "0    0.0  0.0   1.0     1.0  \n",
       "1    0.0  0.0   2.0     1.0  \n",
       "2    2.0  0.0   2.0     1.0  \n",
       "3    2.0  0.0   2.0     1.0  \n",
       "4    2.0  0.0   2.0     1.0  "
      ]
     },
     "execution_count": 9,
     "metadata": {},
     "output_type": "execute_result"
    }
   ],
   "source": [
    "# Lets handle the missing values \n",
    "\n",
    "numerical_transformer = Pipeline(steps=[(\"imputer\", SimpleImputer(strategy=\"mean\"))])\n",
    "numerical_features = [\"trestbps\", \"chol\", \"thalach\"]\n",
    "data_1['sex'] = data_1['sex'].map({'male': 1, 'female': 0})\n",
    "data_1['target'] = data_1['target'].map({'yes': 1, 'no': 0})\n",
    "preprocessor = ColumnTransformer([(\"numerical\", numerical_transformer, numerical_features)], remainder=\"passthrough\")\n",
    "data_array = preprocessor.fit_transform(data_1)\n",
    "all_columns = [\"age\", \"sex\", \"cp\", \"trestbps\", \"chol\", \"fbs\", \"restecg\", \"thalach\", \"exang\", \"oldpeak\", \"slope\", \"ca\", \"thal\", \"target\"]\n",
    "\n",
    "transformed_columns = (numerical_features + \n",
    "                       [col for col in all_columns if col not in numerical_features])\n",
    "data = pd.DataFrame(data_array, columns=transformed_columns)\n",
    "data = data[all_columns]\n",
    "data.head()"
   ]
  },
  {
   "cell_type": "code",
   "execution_count": 10,
   "id": "7eb38d60-a926-41b1-97d6-859c1325fa39",
   "metadata": {},
   "outputs": [
    {
     "data": {
      "text/plain": [
       "age           int64\n",
       "sex           int64\n",
       "cp            int64\n",
       "trestbps    float64\n",
       "chol        float64\n",
       "fbs           int64\n",
       "restecg       int64\n",
       "thalach     float64\n",
       "exang         int64\n",
       "oldpeak     float64\n",
       "slope         int64\n",
       "ca            int64\n",
       "thal          int64\n",
       "target        int64\n",
       "dtype: object"
      ]
     },
     "execution_count": 10,
     "metadata": {},
     "output_type": "execute_result"
    }
   ],
   "source": [
    "data_1.dtypes"
   ]
  },
  {
   "cell_type": "code",
   "execution_count": 11,
   "id": "86e6bff1-81ee-468c-aadc-ceddc5e48ed7",
   "metadata": {},
   "outputs": [
    {
     "data": {
      "text/plain": [
       "age         0\n",
       "sex         0\n",
       "cp          0\n",
       "trestbps    0\n",
       "chol        0\n",
       "fbs         0\n",
       "restecg     0\n",
       "thalach     0\n",
       "exang       0\n",
       "oldpeak     0\n",
       "slope       0\n",
       "ca          0\n",
       "thal        0\n",
       "target      0\n",
       "dtype: int64"
      ]
     },
     "execution_count": 11,
     "metadata": {},
     "output_type": "execute_result"
    }
   ],
   "source": [
    "data.isna().sum()"
   ]
  },
  {
   "cell_type": "code",
   "execution_count": 12,
   "id": "351897a5-5f83-4cb6-b6e0-34d2bb9e9987",
   "metadata": {},
   "outputs": [
    {
     "data": {
      "image/png": "[encoded data removed]",
      "text/plain": [
       "<Figure size 640x480 with 1 Axes>"
      ]
     },
     "metadata": {},
     "output_type": "display_data"
    }
   ],
   "source": [
    "## EDA \n",
    "pd.crosstab(data.sex, data.target).plot(kind = \"bar\");\n",
    "plt.legend();"
   ]
  },
  {
   "cell_type": "code",
   "execution_count": 13,
   "id": "8970a580-8546-4471-a218-274206c04393",
   "metadata": {},
   "outputs": [
    {
     "data": {
      "image/png": "[encoded data removed]",
      "text/plain": [
       "<Figure size 1500x1000 with 2 Axes>"
      ]
     },
     "metadata": {},
     "output_type": "display_data"
    }
   ],
   "source": [
    "# Correlation matrix\n",
    "corr_mat = data.corr()\n",
    "fig, ax = plt.subplots(figsize = (15,10))\n",
    "ax = sns.heatmap(corr_mat, annot= True, linewidths=0.5,cmap='coolwarm', fmt=\".2f\")"
   ]
  },
  {
   "cell_type": "markdown",
   "id": "0e8bed49-2c93-4263-aeb1-138850796ffa",
   "metadata": {},
   "source": [
    "# 3. Modelling ( loading the data )"
   ]
  },
  {
   "cell_type": "code",
   "execution_count": 14,
   "id": "19b596ef-c629-49cf-8cad-a5b95dd8d7e1",
   "metadata": {},
   "outputs": [],
   "source": [
    "# split the data into feature and target variable\n",
    "X = data.drop(\"target\", axis = 1)\n",
    "y = data[\"target\"]"
   ]
  },
  {
   "cell_type": "markdown",
   "id": "b0fef185-2737-48c0-a6d0-c3b58f6b7c3c",
   "metadata": {},
   "source": [
    "# 4. Spliting the data into Train and test data"
   ]
  },
  {
   "cell_type": "code",
   "execution_count": 15,
   "id": "1329c1e2-0ea4-4f2a-826a-4efaedc6dcba",
   "metadata": {},
   "outputs": [],
   "source": [
    "# split the data into training and testing data\n",
    "np.random.seed(12)\n",
    "X_train, X_test, y_train, y_test = train_test_split(X, y, test_size=0.2) "
   ]
  },
  {
   "cell_type": "markdown",
   "id": "d2ef1ad4-9a0b-4b5b-9535-b2da9b6c2172",
   "metadata": {},
   "source": [
    "Now we have split the data into training and test data.........   lets now list out the models we need to use here.\n",
    "\n",
    "Models to check out:\n",
    "1. Logistic regression\n",
    "2. RandomForestClassifier\n",
    "3. K-Nearest Neighbours Classifiers\n",
    "\n",
    "* First, we will create dictionary of models...\n",
    "* Then create a function for fitting and scoring each model\n",
    "\n",
    "## Lets create baseline models"
   ]
  },
  {
   "cell_type": "code",
   "execution_count": 16,
   "id": "2af79197-b33f-4f60-908a-16f268511f76",
   "metadata": {},
   "outputs": [],
   "source": [
    "# Model dictionary\n",
    "models = {\"Logistic Regression\": LogisticRegression(),\n",
    "          \"RandomForestClassifier\": RandomForestClassifier(), \n",
    "          \"K-Nearest Neighbour\": KNeighborsClassifier()}\n",
    "# Create a function to fit and score the model\n",
    "def fit_and_score(models, X_train, X_test, y_train, y_test):\n",
    "    # setup random seed\n",
    "    np.random.seed(12)\n",
    "    # create a empty model_score dictionary\n",
    "    model_score = {}\n",
    "   \n",
    "    for name, model in models.items(): # model.items referes to the key, values inside the dictionary\n",
    "        # fit the model\n",
    "        model.fit(X_train, y_train)\n",
    "        # append the score to the empty dictionary\n",
    "        model_score[name] = model.score(X_test, y_test)\n",
    "    return model_score"
   ]
  },
  {
   "cell_type": "code",
   "execution_count": 17,
   "id": "07c79ae2-a8dd-4be5-a987-ec704ea6ca6d",
   "metadata": {},
   "outputs": [
    {
     "name": "stderr",
     "output_type": "stream",
     "text": [
      "D:\\ML_Projects\\Heart-disease-project\\env\\Lib\\site-packages\\sklearn\\linear_model\\_logistic.py:469: ConvergenceWarning: lbfgs failed to converge (status=1):\n",
      "STOP: TOTAL NO. of ITERATIONS REACHED LIMIT.\n",
      "\n",
      "Increase the number of iterations (max_iter) or scale the data as shown in:\n",
      "    https://scikit-learn.org/stable/modules/preprocessing.html\n",
      "Please also refer to the documentation for alternative solver options:\n",
      "    https://scikit-learn.org/stable/modules/linear_model.html#logistic-regression\n",
      "  n_iter_i = _check_optimize_result(\n"
     ]
    },
    {
     "data": {
      "text/plain": [
       "{'Logistic Regression': 0.7704918032786885,\n",
       " 'RandomForestClassifier': 0.8360655737704918,\n",
       " 'K-Nearest Neighbour': 0.6557377049180327}"
      ]
     },
     "execution_count": 17,
     "metadata": {},
     "output_type": "execute_result"
    }
   ],
   "source": [
    "model_scores = fit_and_score(models=models, X_train=X_train, X_test=X_test, y_train=y_train,y_test=y_test)\n",
    "model_scores"
   ]
  },
  {
   "cell_type": "markdown",
   "id": "339b0567-3db8-4dfd-a334-21a2831a8803",
   "metadata": {},
   "source": [
    "### Baseline Model comparison "
   ]
  },
  {
   "cell_type": "code",
   "execution_count": 18,
   "id": "c3174ce7-f0ff-4a0e-9a08-501500e31c84",
   "metadata": {},
   "outputs": [
    {
     "data": {
      "text/plain": [
       "<Axes: >"
      ]
     },
     "execution_count": 18,
     "metadata": {},
     "output_type": "execute_result"
    },
    {
     "data": {
      "image/png": "[encoded data removed]",
      "text/plain": [
       "<Figure size 640x480 with 1 Axes>"
      ]
     },
     "metadata": {},
     "output_type": "display_data"
    }
   ],
   "source": [
    "model_comparison = pd.DataFrame(model_scores ,index = [\"Baseline accuracy\"])\n",
    "model_comparison.T.plot(kind = \"bar\")"
   ]
  },
  {
   "cell_type": "markdown",
   "id": "c8a747c9-2331-47fa-a1a6-8cddcdf267e2",
   "metadata": {},
   "source": [
    "# 6. Hyperparameter tuning \n",
    "\n",
    "Now lets see what should be done in order to get good results.\n",
    "\n",
    "3 methods: \n",
    "1. By hand\n",
    "2. RandomizedSearchCV\n",
    "3. GridSearchCV\n",
    "\n",
    ".....Lets skip `Kneighbors` by hand\n"
   ]
  },
  {
   "cell_type": "code",
   "execution_count": 19,
   "id": "edb4c0ae-f33a-434a-b1b3-e25cd99b6df3",
   "metadata": {},
   "outputs": [],
   "source": [
    "# create PipeLine for each ML algorithm \n",
    "pipeline_rf = Pipeline(steps=[(\"preprocessor\", preprocessor), (\"rf_classifier\", RandomForestClassifier())])\n",
    "pipeline_log = Pipeline(steps=[(\"preprocessor\", preprocessor), (\"log_regression\", LogisticRegression())])\n",
    "pipeline_knn = Pipeline(steps=[(\"preprocessor\", preprocessor), (\"knn_classifier\", KNeighborsClassifier())])\n",
    "\n",
    "# combine the classifiers in a dictionary\n",
    "pipelines = {\"RandomForestClassifier\":pipeline_rf,\n",
    "             \"Logistic Regression\":pipeline_log,\n",
    "             \"K-Nearest Neighbour\":pipeline_knn}\n",
    "\n",
    "# parameter gird \n",
    "param_grid = {\n",
    "    'K-Nearest Neighbour': {\n",
    "        'knn_classifier__n_neighbors': [3, 5, 7, 9, 11],\n",
    "        'knn_classifier__leaf_size': (20,40,1),\n",
    "        'knn_classifier__p': (1,2),\n",
    "        'knn_classifier__weights': ('uniform', 'distance'),\n",
    "        'knn_classifier__metric': ('minkowski', 'chebyshev')\n",
    "    },\n",
    "    'RandomForestClassifier':{\n",
    "        'rf_classifier__n_estimators': np.arange(10,100,10),\n",
    "        'rf_classifier__max_features': ['auto', 'sqrt'],\n",
    "        'rf_classifier__max_depth': [None, 10, 20, 30],\n",
    "        'rf_classifier__min_samples_split': [2, 5, 10],\n",
    "        'rf_classifier__min_samples_leaf': [1, 2, 4],\n",
    "        'rf_classifier__bootstrap': [True, False]\n",
    "    },\n",
    "    'Logistic Regression':{\n",
    "        'log_regression__C': [0.01, 0.1, 1, 10, 100],\n",
    "        'log_regression__solver': ['liblinear', 'saga']\n",
    "    },\n",
    "}\n",
    "\n",
    "# Lets defin RandomSearchCV function\n",
    "def RandomSearchCV(pipelines, param_grid, X_train, X_test, y_train, y_test):\n",
    "    model_result = {}\n",
    "    for model_name, pipeline in pipelines.items():\n",
    "        random_search = RandomizedSearchCV(pipeline, param_grid[model_name], cv= 5, n_iter=10,verbose= 2)\n",
    "        random_search.fit(X_train, y_train)\n",
    "        model_result[model_name] = random_search\n",
    "    return model_result\n",
    "\n",
    "# Lets define GridSearchCV function\n",
    "def Grid_searchCV(pipelines, param_grid, X_train, X_test, y_train, y_test):\n",
    "    model_result = {}\n",
    "    for model_name, pipeline in pipelines.items():\n",
    "        grid_search = GridSearchCV(pipeline, param_grid[model_name], cv=5, n_jobs=-1)\n",
    "        grid_search.fit(X_train, y_train)\n",
    "        model_result[model_name] = grid_search\n",
    "    return model_result"
   ]
  },
  {
   "cell_type": "code",
   "execution_count": 20,
   "id": "d5739099-308d-48f2-9c12-3c7c8dee2612",
   "metadata": {},
   "outputs": [
    {
     "name": "stdout",
     "output_type": "stream",
     "text": [
      "Fitting 5 folds for each of 10 candidates, totalling 50 fits\n",
      "[CV] END rf_classifier__bootstrap=False, rf_classifier__max_depth=30, rf_classifier__max_features=sqrt, rf_classifier__min_samples_leaf=4, rf_classifier__min_samples_split=2, rf_classifier__n_estimators=90; total time=   0.0s\n",
      "[CV] END rf_classifier__bootstrap=False, rf_classifier__max_depth=30, rf_classifier__max_features=sqrt, rf_classifier__min_samples_leaf=4, rf_classifier__min_samples_split=2, rf_classifier__n_estimators=90; total time=   0.0s\n",
      "[CV] END rf_classifier__bootstrap=False, rf_classifier__max_depth=30, rf_classifier__max_features=sqrt, rf_classifier__min_samples_leaf=4, rf_classifier__min_samples_split=2, rf_classifier__n_estimators=90; total time=   0.0s\n",
      "[CV] END rf_classifier__bootstrap=False, rf_classifier__max_depth=30, rf_classifier__max_features=sqrt, rf_classifier__min_samples_leaf=4, rf_classifier__min_samples_split=2, rf_classifier__n_estimators=90; total time=   0.0s\n",
      "[CV] END rf_classifier__bootstrap=False, rf_classifier__max_depth=30, rf_classifier__max_features=sqrt, rf_classifier__min_samples_leaf=4, rf_classifier__min_samples_split=2, rf_classifier__n_estimators=90; total time=   0.0s\n",
      "[CV] END rf_classifier__bootstrap=False, rf_classifier__max_depth=30, rf_classifier__max_features=sqrt, rf_classifier__min_samples_leaf=2, rf_classifier__min_samples_split=10, rf_classifier__n_estimators=60; total time=   0.0s\n",
      "[CV] END rf_classifier__bootstrap=False, rf_classifier__max_depth=30, rf_classifier__max_features=sqrt, rf_classifier__min_samples_leaf=2, rf_classifier__min_samples_split=10, rf_classifier__n_estimators=60; total time=   0.0s\n",
      "[CV] END rf_classifier__bootstrap=False, rf_classifier__max_depth=30, rf_classifier__max_features=sqrt, rf_classifier__min_samples_leaf=2, rf_classifier__min_samples_split=10, rf_classifier__n_estimators=60; total time=   0.0s\n",
      "[CV] END rf_classifier__bootstrap=False, rf_classifier__max_depth=30, rf_classifier__max_features=sqrt, rf_classifier__min_samples_leaf=2, rf_classifier__min_samples_split=10, rf_classifier__n_estimators=60; total time=   0.0s\n",
      "[CV] END rf_classifier__bootstrap=False, rf_classifier__max_depth=30, rf_classifier__max_features=sqrt, rf_classifier__min_samples_leaf=2, rf_classifier__min_samples_split=10, rf_classifier__n_estimators=60; total time=   0.0s\n",
      "[CV] END rf_classifier__bootstrap=False, rf_classifier__max_depth=30, rf_classifier__max_features=sqrt, rf_classifier__min_samples_leaf=4, rf_classifier__min_samples_split=5, rf_classifier__n_estimators=60; total time=   0.0s\n",
      "[CV] END rf_classifier__bootstrap=False, rf_classifier__max_depth=30, rf_classifier__max_features=sqrt, rf_classifier__min_samples_leaf=4, rf_classifier__min_samples_split=5, rf_classifier__n_estimators=60; total time=   0.0s\n",
      "[CV] END rf_classifier__bootstrap=False, rf_classifier__max_depth=30, rf_classifier__max_features=sqrt, rf_classifier__min_samples_leaf=4, rf_classifier__min_samples_split=5, rf_classifier__n_estimators=60; total time=   0.0s\n",
      "[CV] END rf_classifier__bootstrap=False, rf_classifier__max_depth=30, rf_classifier__max_features=sqrt, rf_classifier__min_samples_leaf=4, rf_classifier__min_samples_split=5, rf_classifier__n_estimators=60; total time=   0.0s\n",
      "[CV] END rf_classifier__bootstrap=False, rf_classifier__max_depth=30, rf_classifier__max_features=sqrt, rf_classifier__min_samples_leaf=4, rf_classifier__min_samples_split=5, rf_classifier__n_estimators=60; total time=   0.0s\n",
      "[CV] END rf_classifier__bootstrap=True, rf_classifier__max_depth=20, rf_classifier__max_features=sqrt, rf_classifier__min_samples_leaf=2, rf_classifier__min_samples_split=2, rf_classifier__n_estimators=10; total time=   0.0s\n",
      "[CV] END rf_classifier__bootstrap=True, rf_classifier__max_depth=20, rf_classifier__max_features=sqrt, rf_classifier__min_samples_leaf=2, rf_classifier__min_samples_split=2, rf_classifier__n_estimators=10; total time=   0.0s\n",
      "[CV] END rf_classifier__bootstrap=True, rf_classifier__max_depth=20, rf_classifier__max_features=sqrt, rf_classifier__min_samples_leaf=2, rf_classifier__min_samples_split=2, rf_classifier__n_estimators=10; total time=   0.0s\n",
      "[CV] END rf_classifier__bootstrap=True, rf_classifier__max_depth=20, rf_classifier__max_features=sqrt, rf_classifier__min_samples_leaf=2, rf_classifier__min_samples_split=2, rf_classifier__n_estimators=10; total time=   0.0s\n",
      "[CV] END rf_classifier__bootstrap=True, rf_classifier__max_depth=20, rf_classifier__max_features=sqrt, rf_classifier__min_samples_leaf=2, rf_classifier__min_samples_split=2, rf_classifier__n_estimators=10; total time=   0.0s\n",
      "[CV] END rf_classifier__bootstrap=True, rf_classifier__max_depth=10, rf_classifier__max_features=sqrt, rf_classifier__min_samples_leaf=2, rf_classifier__min_samples_split=2, rf_classifier__n_estimators=90; total time=   0.0s\n",
      "[CV] END rf_classifier__bootstrap=True, rf_classifier__max_depth=10, rf_classifier__max_features=sqrt, rf_classifier__min_samples_leaf=2, rf_classifier__min_samples_split=2, rf_classifier__n_estimators=90; total time=   0.0s\n",
      "[CV] END rf_classifier__bootstrap=True, rf_classifier__max_depth=10, rf_classifier__max_features=sqrt, rf_classifier__min_samples_leaf=2, rf_classifier__min_samples_split=2, rf_classifier__n_estimators=90; total time=   0.0s\n",
      "[CV] END rf_classifier__bootstrap=True, rf_classifier__max_depth=10, rf_classifier__max_features=sqrt, rf_classifier__min_samples_leaf=2, rf_classifier__min_samples_split=2, rf_classifier__n_estimators=90; total time=   0.0s\n",
      "[CV] END rf_classifier__bootstrap=True, rf_classifier__max_depth=10, rf_classifier__max_features=sqrt, rf_classifier__min_samples_leaf=2, rf_classifier__min_samples_split=2, rf_classifier__n_estimators=90; total time=   0.0s\n",
      "[CV] END rf_classifier__bootstrap=True, rf_classifier__max_depth=None, rf_classifier__max_features=auto, rf_classifier__min_samples_leaf=2, rf_classifier__min_samples_split=10, rf_classifier__n_estimators=50; total time=   0.0s\n",
      "[CV] END rf_classifier__bootstrap=True, rf_classifier__max_depth=None, rf_classifier__max_features=auto, rf_classifier__min_samples_leaf=2, rf_classifier__min_samples_split=10, rf_classifier__n_estimators=50; total time=   0.0s\n",
      "[CV] END rf_classifier__bootstrap=True, rf_classifier__max_depth=None, rf_classifier__max_features=auto, rf_classifier__min_samples_leaf=2, rf_classifier__min_samples_split=10, rf_classifier__n_estimators=50; total time=   0.0s\n",
      "[CV] END rf_classifier__bootstrap=True, rf_classifier__max_depth=None, rf_classifier__max_features=auto, rf_classifier__min_samples_leaf=2, rf_classifier__min_samples_split=10, rf_classifier__n_estimators=50; total time=   0.0s\n",
      "[CV] END rf_classifier__bootstrap=True, rf_classifier__max_depth=None, rf_classifier__max_features=auto, rf_classifier__min_samples_leaf=2, rf_classifier__min_samples_split=10, rf_classifier__n_estimators=50; total time=   0.0s\n",
      "[CV] END rf_classifier__bootstrap=True, rf_classifier__max_depth=20, rf_classifier__max_features=sqrt, rf_classifier__min_samples_leaf=4, rf_classifier__min_samples_split=5, rf_classifier__n_estimators=60; total time=   0.0s\n",
      "[CV] END rf_classifier__bootstrap=True, rf_classifier__max_depth=20, rf_classifier__max_features=sqrt, rf_classifier__min_samples_leaf=4, rf_classifier__min_samples_split=5, rf_classifier__n_estimators=60; total time=   0.0s\n",
      "[CV] END rf_classifier__bootstrap=True, rf_classifier__max_depth=20, rf_classifier__max_features=sqrt, rf_classifier__min_samples_leaf=4, rf_classifier__min_samples_split=5, rf_classifier__n_estimators=60; total time=   0.0s\n",
      "[CV] END rf_classifier__bootstrap=True, rf_classifier__max_depth=20, rf_classifier__max_features=sqrt, rf_classifier__min_samples_leaf=4, rf_classifier__min_samples_split=5, rf_classifier__n_estimators=60; total time=   0.0s\n",
      "[CV] END rf_classifier__bootstrap=True, rf_classifier__max_depth=20, rf_classifier__max_features=sqrt, rf_classifier__min_samples_leaf=4, rf_classifier__min_samples_split=5, rf_classifier__n_estimators=60; total time=   0.0s\n",
      "[CV] END rf_classifier__bootstrap=True, rf_classifier__max_depth=20, rf_classifier__max_features=sqrt, rf_classifier__min_samples_leaf=1, rf_classifier__min_samples_split=5, rf_classifier__n_estimators=50; total time=   0.0s\n",
      "[CV] END rf_classifier__bootstrap=True, rf_classifier__max_depth=20, rf_classifier__max_features=sqrt, rf_classifier__min_samples_leaf=1, rf_classifier__min_samples_split=5, rf_classifier__n_estimators=50; total time=   0.0s\n",
      "[CV] END rf_classifier__bootstrap=True, rf_classifier__max_depth=20, rf_classifier__max_features=sqrt, rf_classifier__min_samples_leaf=1, rf_classifier__min_samples_split=5, rf_classifier__n_estimators=50; total time=   0.0s\n",
      "[CV] END rf_classifier__bootstrap=True, rf_classifier__max_depth=20, rf_classifier__max_features=sqrt, rf_classifier__min_samples_leaf=1, rf_classifier__min_samples_split=5, rf_classifier__n_estimators=50; total time=   0.0s\n",
      "[CV] END rf_classifier__bootstrap=True, rf_classifier__max_depth=20, rf_classifier__max_features=sqrt, rf_classifier__min_samples_leaf=1, rf_classifier__min_samples_split=5, rf_classifier__n_estimators=50; total time=   0.0s\n",
      "[CV] END rf_classifier__bootstrap=True, rf_classifier__max_depth=20, rf_classifier__max_features=sqrt, rf_classifier__min_samples_leaf=4, rf_classifier__min_samples_split=2, rf_classifier__n_estimators=10; total time=   0.0s\n",
      "[CV] END rf_classifier__bootstrap=True, rf_classifier__max_depth=20, rf_classifier__max_features=sqrt, rf_classifier__min_samples_leaf=4, rf_classifier__min_samples_split=2, rf_classifier__n_estimators=10; total time=   0.0s\n",
      "[CV] END rf_classifier__bootstrap=True, rf_classifier__max_depth=20, rf_classifier__max_features=sqrt, rf_classifier__min_samples_leaf=4, rf_classifier__min_samples_split=2, rf_classifier__n_estimators=10; total time=   0.0s\n",
      "[CV] END rf_classifier__bootstrap=True, rf_classifier__max_depth=20, rf_classifier__max_features=sqrt, rf_classifier__min_samples_leaf=4, rf_classifier__min_samples_split=2, rf_classifier__n_estimators=10; total time=   0.0s\n",
      "[CV] END rf_classifier__bootstrap=True, rf_classifier__max_depth=20, rf_classifier__max_features=sqrt, rf_classifier__min_samples_leaf=4, rf_classifier__min_samples_split=2, rf_classifier__n_estimators=10; total time=   0.0s\n",
      "[CV] END rf_classifier__bootstrap=False, rf_classifier__max_depth=20, rf_classifier__max_features=sqrt, rf_classifier__min_samples_leaf=2, rf_classifier__min_samples_split=10, rf_classifier__n_estimators=10; total time=   0.0s\n",
      "[CV] END rf_classifier__bootstrap=False, rf_classifier__max_depth=20, rf_classifier__max_features=sqrt, rf_classifier__min_samples_leaf=2, rf_classifier__min_samples_split=10, rf_classifier__n_estimators=10; total time=   0.0s\n",
      "[CV] END rf_classifier__bootstrap=False, rf_classifier__max_depth=20, rf_classifier__max_features=sqrt, rf_classifier__min_samples_leaf=2, rf_classifier__min_samples_split=10, rf_classifier__n_estimators=10; total time=   0.0s\n",
      "[CV] END rf_classifier__bootstrap=False, rf_classifier__max_depth=20, rf_classifier__max_features=sqrt, rf_classifier__min_samples_leaf=2, rf_classifier__min_samples_split=10, rf_classifier__n_estimators=10; total time=   0.0s\n",
      "[CV] END rf_classifier__bootstrap=False, rf_classifier__max_depth=20, rf_classifier__max_features=sqrt, rf_classifier__min_samples_leaf=2, rf_classifier__min_samples_split=10, rf_classifier__n_estimators=10; total time=   0.0s\n",
      "Fitting 5 folds for each of 10 candidates, totalling 50 fits\n",
      "[CV] END log_regression__C=0.01, log_regression__solver=liblinear; total time=   0.0s\n",
      "[CV] END log_regression__C=0.01, log_regression__solver=liblinear; total time=   0.0s\n",
      "[CV] END log_regression__C=0.01, log_regression__solver=liblinear; total time=   0.0s\n",
      "[CV] END log_regression__C=0.01, log_regression__solver=liblinear; total time=   0.0s\n",
      "[CV] END log_regression__C=0.01, log_regression__solver=liblinear; total time=   0.0s\n",
      "[CV] END log_regression__C=0.01, log_regression__solver=saga; total time=   0.0s\n",
      "[CV] END log_regression__C=0.01, log_regression__solver=saga; total time=   0.0s\n"
     ]
    },
    {
     "name": "stderr",
     "output_type": "stream",
     "text": [
      "D:\\ML_Projects\\Heart-disease-project\\env\\Lib\\site-packages\\sklearn\\model_selection\\_validation.py:547: FitFailedWarning: \n",
      "5 fits failed out of a total of 50.\n",
      "The score on these train-test partitions for these parameters will be set to nan.\n",
      "If these failures are not expected, you can try to debug them by setting error_score='raise'.\n",
      "\n",
      "Below are more details about the failures:\n",
      "--------------------------------------------------------------------------------\n",
      "5 fits failed with the following error:\n",
      "Traceback (most recent call last):\n",
      "  File \"D:\\ML_Projects\\Heart-disease-project\\env\\Lib\\site-packages\\sklearn\\model_selection\\_validation.py\", line 895, in _fit_and_score\n",
      "    estimator.fit(X_train, y_train, **fit_params)\n",
      "  File \"D:\\ML_Projects\\Heart-disease-project\\env\\Lib\\site-packages\\sklearn\\base.py\", line 1474, in wrapper\n",
      "    return fit_method(estimator, *args, **kwargs)\n",
      "           ^^^^^^^^^^^^^^^^^^^^^^^^^^^^^^^^^^^^^^\n",
      "  File \"D:\\ML_Projects\\Heart-disease-project\\env\\Lib\\site-packages\\sklearn\\pipeline.py\", line 475, in fit\n",
      "    self._final_estimator.fit(Xt, y, **last_step_params[\"fit\"])\n",
      "  File \"D:\\ML_Projects\\Heart-disease-project\\env\\Lib\\site-packages\\sklearn\\base.py\", line 1467, in wrapper\n",
      "    estimator._validate_params()\n",
      "  File \"D:\\ML_Projects\\Heart-disease-project\\env\\Lib\\site-packages\\sklearn\\base.py\", line 666, in _validate_params\n",
      "    validate_parameter_constraints(\n",
      "  File \"D:\\ML_Projects\\Heart-disease-project\\env\\Lib\\site-packages\\sklearn\\utils\\_param_validation.py\", line 95, in validate_parameter_constraints\n",
      "    raise InvalidParameterError(\n",
      "sklearn.utils._param_validation.InvalidParameterError: The 'max_features' parameter of RandomForestClassifier must be an int in the range [1, inf), a float in the range (0.0, 1.0], a str among {'sqrt', 'log2'} or None. Got 'auto' instead.\n",
      "\n",
      "  warnings.warn(some_fits_failed_message, FitFailedWarning)\n",
      "D:\\ML_Projects\\Heart-disease-project\\env\\Lib\\site-packages\\sklearn\\model_selection\\_search.py:1051: UserWarning: One or more of the test scores are non-finite: [0.81394558 0.82193878 0.82636054 0.81420068 0.82644558        nan\n",
      " 0.80977891 0.80977891 0.80161565 0.79302721]\n",
      "  warnings.warn(\n",
      "D:\\ML_Projects\\Heart-disease-project\\env\\Lib\\site-packages\\sklearn\\linear_model\\_sag.py:350: ConvergenceWarning: The max_iter was reached which means the coef_ did not converge\n",
      "  warnings.warn(\n",
      "D:\\ML_Projects\\Heart-disease-project\\env\\Lib\\site-packages\\sklearn\\linear_model\\_sag.py:350: ConvergenceWarning: The max_iter was reached which means the coef_ did not converge\n",
      "  warnings.warn(\n",
      "D:\\ML_Projects\\Heart-disease-project\\env\\Lib\\site-packages\\sklearn\\linear_model\\_sag.py:350: ConvergenceWarning: The max_iter was reached which means the coef_ did not converge\n",
      "  warnings.warn(\n",
      "D:\\ML_Projects\\Heart-disease-project\\env\\Lib\\site-packages\\sklearn\\linear_model\\_sag.py:350: ConvergenceWarning: The max_iter was reached which means the coef_ did not converge\n",
      "  warnings.warn(\n",
      "D:\\ML_Projects\\Heart-disease-project\\env\\Lib\\site-packages\\sklearn\\linear_model\\_sag.py:350: ConvergenceWarning: The max_iter was reached which means the coef_ did not converge\n",
      "  warnings.warn(\n",
      "D:\\ML_Projects\\Heart-disease-project\\env\\Lib\\site-packages\\sklearn\\linear_model\\_sag.py:350: ConvergenceWarning: The max_iter was reached which means the coef_ did not converge\n",
      "  warnings.warn(\n",
      "D:\\ML_Projects\\Heart-disease-project\\env\\Lib\\site-packages\\sklearn\\linear_model\\_sag.py:350: ConvergenceWarning: The max_iter was reached which means the coef_ did not converge\n",
      "  warnings.warn(\n",
      "D:\\ML_Projects\\Heart-disease-project\\env\\Lib\\site-packages\\sklearn\\linear_model\\_sag.py:350: ConvergenceWarning: The max_iter was reached which means the coef_ did not converge\n",
      "  warnings.warn(\n",
      "D:\\ML_Projects\\Heart-disease-project\\env\\Lib\\site-packages\\sklearn\\linear_model\\_sag.py:350: ConvergenceWarning: The max_iter was reached which means the coef_ did not converge\n",
      "  warnings.warn(\n",
      "D:\\ML_Projects\\Heart-disease-project\\env\\Lib\\site-packages\\sklearn\\linear_model\\_sag.py:350: ConvergenceWarning: The max_iter was reached which means the coef_ did not converge\n",
      "  warnings.warn(\n",
      "D:\\ML_Projects\\Heart-disease-project\\env\\Lib\\site-packages\\sklearn\\linear_model\\_sag.py:350: ConvergenceWarning: The max_iter was reached which means the coef_ did not converge\n",
      "  warnings.warn(\n",
      "D:\\ML_Projects\\Heart-disease-project\\env\\Lib\\site-packages\\sklearn\\linear_model\\_sag.py:350: ConvergenceWarning: The max_iter was reached which means the coef_ did not converge\n",
      "  warnings.warn(\n",
      "D:\\ML_Projects\\Heart-disease-project\\env\\Lib\\site-packages\\sklearn\\linear_model\\_sag.py:350: ConvergenceWarning: The max_iter was reached which means the coef_ did not converge\n",
      "  warnings.warn(\n",
      "D:\\ML_Projects\\Heart-disease-project\\env\\Lib\\site-packages\\sklearn\\linear_model\\_sag.py:350: ConvergenceWarning: The max_iter was reached which means the coef_ did not converge\n",
      "  warnings.warn(\n",
      "D:\\ML_Projects\\Heart-disease-project\\env\\Lib\\site-packages\\sklearn\\linear_model\\_sag.py:350: ConvergenceWarning: The max_iter was reached which means the coef_ did not converge\n",
      "  warnings.warn(\n"
     ]
    },
    {
     "name": "stdout",
     "output_type": "stream",
     "text": [
      "[CV] END log_regression__C=0.01, log_regression__solver=saga; total time=   0.0s\n",
      "[CV] END log_regression__C=0.01, log_regression__solver=saga; total time=   0.0s\n",
      "[CV] END log_regression__C=0.01, log_regression__solver=saga; total time=   0.0s\n",
      "[CV] END log_regression__C=0.1, log_regression__solver=liblinear; total time=   0.0s\n",
      "[CV] END log_regression__C=0.1, log_regression__solver=liblinear; total time=   0.0s\n",
      "[CV] END log_regression__C=0.1, log_regression__solver=liblinear; total time=   0.0s\n",
      "[CV] END log_regression__C=0.1, log_regression__solver=liblinear; total time=   0.0s\n",
      "[CV] END log_regression__C=0.1, log_regression__solver=liblinear; total time=   0.0s\n",
      "[CV] END .log_regression__C=0.1, log_regression__solver=saga; total time=   0.0s\n",
      "[CV] END .log_regression__C=0.1, log_regression__solver=saga; total time=   0.0s\n",
      "[CV] END .log_regression__C=0.1, log_regression__solver=saga; total time=   0.0s\n",
      "[CV] END .log_regression__C=0.1, log_regression__solver=saga; total time=   0.0s\n",
      "[CV] END .log_regression__C=0.1, log_regression__solver=saga; total time=   0.0s\n",
      "[CV] END log_regression__C=1, log_regression__solver=liblinear; total time=   0.0s\n",
      "[CV] END log_regression__C=1, log_regression__solver=liblinear; total time=   0.0s\n",
      "[CV] END log_regression__C=1, log_regression__solver=liblinear; total time=   0.0s\n",
      "[CV] END log_regression__C=1, log_regression__solver=liblinear; total time=   0.0s\n",
      "[CV] END log_regression__C=1, log_regression__solver=liblinear; total time=   0.0s\n",
      "[CV] END ...log_regression__C=1, log_regression__solver=saga; total time=   0.0s\n",
      "[CV] END ...log_regression__C=1, log_regression__solver=saga; total time=   0.0s\n",
      "[CV] END ...log_regression__C=1, log_regression__solver=saga; total time=   0.0s\n",
      "[CV] END ...log_regression__C=1, log_regression__solver=saga; total time=   0.0s\n",
      "[CV] END ...log_regression__C=1, log_regression__solver=saga; total time=   0.0s\n",
      "[CV] END log_regression__C=10, log_regression__solver=liblinear; total time=   0.0s\n",
      "[CV] END log_regression__C=10, log_regression__solver=liblinear; total time=   0.0s\n",
      "[CV] END log_regression__C=10, log_regression__solver=liblinear; total time=   0.0s\n",
      "[CV] END log_regression__C=10, log_regression__solver=liblinear; total time=   0.0s\n",
      "[CV] END log_regression__C=10, log_regression__solver=liblinear; total time=   0.0s\n",
      "[CV] END ..log_regression__C=10, log_regression__solver=saga; total time=   0.0s\n",
      "[CV] END ..log_regression__C=10, log_regression__solver=saga; total time=   0.0s\n",
      "[CV] END ..log_regression__C=10, log_regression__solver=saga; total time=   0.0s\n",
      "[CV] END ..log_regression__C=10, log_regression__solver=saga; total time=   0.0s\n",
      "[CV] END ..log_regression__C=10, log_regression__solver=saga; total time=   0.0s\n",
      "[CV] END log_regression__C=100, log_regression__solver=liblinear; total time=   0.0s\n",
      "[CV] END log_regression__C=100, log_regression__solver=liblinear; total time=   0.0s\n",
      "[CV] END log_regression__C=100, log_regression__solver=liblinear; total time=   0.0s\n",
      "[CV] END log_regression__C=100, log_regression__solver=liblinear; total time=   0.0s\n",
      "[CV] END log_regression__C=100, log_regression__solver=liblinear; total time=   0.0s\n",
      "[CV] END .log_regression__C=100, log_regression__solver=saga; total time=   0.0s\n",
      "[CV] END .log_regression__C=100, log_regression__solver=saga; total time=   0.0s\n",
      "[CV] END .log_regression__C=100, log_regression__solver=saga; total time=   0.0s\n",
      "[CV] END .log_regression__C=100, log_regression__solver=saga; total time=   0.0s\n",
      "[CV] END .log_regression__C=100, log_regression__solver=saga; total time=   0.0s\n",
      "Fitting 5 folds for each of 10 candidates, totalling 50 fits\n",
      "[CV] END knn_classifier__leaf_size=20, knn_classifier__metric=minkowski, knn_classifier__n_neighbors=3, knn_classifier__p=1, knn_classifier__weights=distance; total time=   0.0s\n",
      "[CV] END knn_classifier__leaf_size=20, knn_classifier__metric=minkowski, knn_classifier__n_neighbors=3, knn_classifier__p=1, knn_classifier__weights=distance; total time=   0.0s\n"
     ]
    },
    {
     "name": "stderr",
     "output_type": "stream",
     "text": [
      "D:\\ML_Projects\\Heart-disease-project\\env\\Lib\\site-packages\\sklearn\\linear_model\\_sag.py:350: ConvergenceWarning: The max_iter was reached which means the coef_ did not converge\n",
      "  warnings.warn(\n",
      "D:\\ML_Projects\\Heart-disease-project\\env\\Lib\\site-packages\\sklearn\\linear_model\\_sag.py:350: ConvergenceWarning: The max_iter was reached which means the coef_ did not converge\n",
      "  warnings.warn(\n",
      "D:\\ML_Projects\\Heart-disease-project\\env\\Lib\\site-packages\\sklearn\\linear_model\\_sag.py:350: ConvergenceWarning: The max_iter was reached which means the coef_ did not converge\n",
      "  warnings.warn(\n",
      "D:\\ML_Projects\\Heart-disease-project\\env\\Lib\\site-packages\\sklearn\\linear_model\\_sag.py:350: ConvergenceWarning: The max_iter was reached which means the coef_ did not converge\n",
      "  warnings.warn(\n",
      "D:\\ML_Projects\\Heart-disease-project\\env\\Lib\\site-packages\\sklearn\\linear_model\\_sag.py:350: ConvergenceWarning: The max_iter was reached which means the coef_ did not converge\n",
      "  warnings.warn(\n",
      "D:\\ML_Projects\\Heart-disease-project\\env\\Lib\\site-packages\\sklearn\\linear_model\\_sag.py:350: ConvergenceWarning: The max_iter was reached which means the coef_ did not converge\n",
      "  warnings.warn(\n",
      "D:\\ML_Projects\\Heart-disease-project\\env\\Lib\\site-packages\\sklearn\\linear_model\\_sag.py:350: ConvergenceWarning: The max_iter was reached which means the coef_ did not converge\n",
      "  warnings.warn(\n",
      "D:\\ML_Projects\\Heart-disease-project\\env\\Lib\\site-packages\\sklearn\\linear_model\\_sag.py:350: ConvergenceWarning: The max_iter was reached which means the coef_ did not converge\n",
      "  warnings.warn(\n",
      "D:\\ML_Projects\\Heart-disease-project\\env\\Lib\\site-packages\\sklearn\\linear_model\\_sag.py:350: ConvergenceWarning: The max_iter was reached which means the coef_ did not converge\n",
      "  warnings.warn(\n",
      "D:\\ML_Projects\\Heart-disease-project\\env\\Lib\\site-packages\\sklearn\\linear_model\\_sag.py:350: ConvergenceWarning: The max_iter was reached which means the coef_ did not converge\n",
      "  warnings.warn(\n"
     ]
    },
    {
     "name": "stdout",
     "output_type": "stream",
     "text": [
      "[CV] END knn_classifier__leaf_size=20, knn_classifier__metric=minkowski, knn_classifier__n_neighbors=3, knn_classifier__p=1, knn_classifier__weights=distance; total time=   0.0s\n",
      "[CV] END knn_classifier__leaf_size=20, knn_classifier__metric=minkowski, knn_classifier__n_neighbors=3, knn_classifier__p=1, knn_classifier__weights=distance; total time=   0.0s\n",
      "[CV] END knn_classifier__leaf_size=20, knn_classifier__metric=minkowski, knn_classifier__n_neighbors=3, knn_classifier__p=1, knn_classifier__weights=distance; total time=   0.0s\n",
      "[CV] END knn_classifier__leaf_size=20, knn_classifier__metric=chebyshev, knn_classifier__n_neighbors=5, knn_classifier__p=1, knn_classifier__weights=uniform; total time=   0.0s\n",
      "[CV] END knn_classifier__leaf_size=20, knn_classifier__metric=chebyshev, knn_classifier__n_neighbors=5, knn_classifier__p=1, knn_classifier__weights=uniform; total time=   0.0s\n",
      "[CV] END knn_classifier__leaf_size=20, knn_classifier__metric=chebyshev, knn_classifier__n_neighbors=5, knn_classifier__p=1, knn_classifier__weights=uniform; total time=   0.0s\n",
      "[CV] END knn_classifier__leaf_size=20, knn_classifier__metric=chebyshev, knn_classifier__n_neighbors=5, knn_classifier__p=1, knn_classifier__weights=uniform; total time=   0.0s\n",
      "[CV] END knn_classifier__leaf_size=20, knn_classifier__metric=chebyshev, knn_classifier__n_neighbors=5, knn_classifier__p=1, knn_classifier__weights=uniform; total time=   0.0s\n",
      "[CV] END knn_classifier__leaf_size=20, knn_classifier__metric=minkowski, knn_classifier__n_neighbors=7, knn_classifier__p=1, knn_classifier__weights=uniform; total time=   0.0s\n",
      "[CV] END knn_classifier__leaf_size=20, knn_classifier__metric=minkowski, knn_classifier__n_neighbors=7, knn_classifier__p=1, knn_classifier__weights=uniform; total time=   0.0s\n",
      "[CV] END knn_classifier__leaf_size=20, knn_classifier__metric=minkowski, knn_classifier__n_neighbors=7, knn_classifier__p=1, knn_classifier__weights=uniform; total time=   0.0s\n",
      "[CV] END knn_classifier__leaf_size=20, knn_classifier__metric=minkowski, knn_classifier__n_neighbors=7, knn_classifier__p=1, knn_classifier__weights=uniform; total time=   0.0s\n",
      "[CV] END knn_classifier__leaf_size=20, knn_classifier__metric=minkowski, knn_classifier__n_neighbors=7, knn_classifier__p=1, knn_classifier__weights=uniform; total time=   0.0s\n",
      "[CV] END knn_classifier__leaf_size=20, knn_classifier__metric=chebyshev, knn_classifier__n_neighbors=3, knn_classifier__p=2, knn_classifier__weights=distance; total time=   0.0s\n",
      "[CV] END knn_classifier__leaf_size=20, knn_classifier__metric=chebyshev, knn_classifier__n_neighbors=3, knn_classifier__p=2, knn_classifier__weights=distance; total time=   0.0s\n",
      "[CV] END knn_classifier__leaf_size=20, knn_classifier__metric=chebyshev, knn_classifier__n_neighbors=3, knn_classifier__p=2, knn_classifier__weights=distance; total time=   0.0s\n",
      "[CV] END knn_classifier__leaf_size=20, knn_classifier__metric=chebyshev, knn_classifier__n_neighbors=3, knn_classifier__p=2, knn_classifier__weights=distance; total time=   0.0s\n",
      "[CV] END knn_classifier__leaf_size=20, knn_classifier__metric=chebyshev, knn_classifier__n_neighbors=3, knn_classifier__p=2, knn_classifier__weights=distance; total time=   0.0s\n",
      "[CV] END knn_classifier__leaf_size=20, knn_classifier__metric=minkowski, knn_classifier__n_neighbors=9, knn_classifier__p=2, knn_classifier__weights=distance; total time=   0.0s\n",
      "[CV] END knn_classifier__leaf_size=20, knn_classifier__metric=minkowski, knn_classifier__n_neighbors=9, knn_classifier__p=2, knn_classifier__weights=distance; total time=   0.0s\n",
      "[CV] END knn_classifier__leaf_size=20, knn_classifier__metric=minkowski, knn_classifier__n_neighbors=9, knn_classifier__p=2, knn_classifier__weights=distance; total time=   0.0s\n",
      "[CV] END knn_classifier__leaf_size=20, knn_classifier__metric=minkowski, knn_classifier__n_neighbors=9, knn_classifier__p=2, knn_classifier__weights=distance; total time=   0.0s\n",
      "[CV] END knn_classifier__leaf_size=20, knn_classifier__metric=minkowski, knn_classifier__n_neighbors=9, knn_classifier__p=2, knn_classifier__weights=distance; total time=   0.0s\n",
      "[CV] END knn_classifier__leaf_size=1, knn_classifier__metric=minkowski, knn_classifier__n_neighbors=11, knn_classifier__p=2, knn_classifier__weights=uniform; total time=   0.0s\n",
      "[CV] END knn_classifier__leaf_size=1, knn_classifier__metric=minkowski, knn_classifier__n_neighbors=11, knn_classifier__p=2, knn_classifier__weights=uniform; total time=   0.0s\n",
      "[CV] END knn_classifier__leaf_size=1, knn_classifier__metric=minkowski, knn_classifier__n_neighbors=11, knn_classifier__p=2, knn_classifier__weights=uniform; total time=   0.0s\n",
      "[CV] END knn_classifier__leaf_size=1, knn_classifier__metric=minkowski, knn_classifier__n_neighbors=11, knn_classifier__p=2, knn_classifier__weights=uniform; total time=   0.0s\n",
      "[CV] END knn_classifier__leaf_size=1, knn_classifier__metric=minkowski, knn_classifier__n_neighbors=11, knn_classifier__p=2, knn_classifier__weights=uniform; total time=   0.0s\n",
      "[CV] END knn_classifier__leaf_size=40, knn_classifier__metric=chebyshev, knn_classifier__n_neighbors=9, knn_classifier__p=2, knn_classifier__weights=distance; total time=   0.0s\n",
      "[CV] END knn_classifier__leaf_size=40, knn_classifier__metric=chebyshev, knn_classifier__n_neighbors=9, knn_classifier__p=2, knn_classifier__weights=distance; total time=   0.0s\n",
      "[CV] END knn_classifier__leaf_size=40, knn_classifier__metric=chebyshev, knn_classifier__n_neighbors=9, knn_classifier__p=2, knn_classifier__weights=distance; total time=   0.0s\n",
      "[CV] END knn_classifier__leaf_size=40, knn_classifier__metric=chebyshev, knn_classifier__n_neighbors=9, knn_classifier__p=2, knn_classifier__weights=distance; total time=   0.0s\n",
      "[CV] END knn_classifier__leaf_size=40, knn_classifier__metric=chebyshev, knn_classifier__n_neighbors=9, knn_classifier__p=2, knn_classifier__weights=distance; total time=   0.0s\n",
      "[CV] END knn_classifier__leaf_size=40, knn_classifier__metric=chebyshev, knn_classifier__n_neighbors=3, knn_classifier__p=2, knn_classifier__weights=uniform; total time=   0.0s\n",
      "[CV] END knn_classifier__leaf_size=40, knn_classifier__metric=chebyshev, knn_classifier__n_neighbors=3, knn_classifier__p=2, knn_classifier__weights=uniform; total time=   0.0s\n",
      "[CV] END knn_classifier__leaf_size=40, knn_classifier__metric=chebyshev, knn_classifier__n_neighbors=3, knn_classifier__p=2, knn_classifier__weights=uniform; total time=   0.0s\n",
      "[CV] END knn_classifier__leaf_size=40, knn_classifier__metric=chebyshev, knn_classifier__n_neighbors=3, knn_classifier__p=2, knn_classifier__weights=uniform; total time=   0.0s\n",
      "[CV] END knn_classifier__leaf_size=40, knn_classifier__metric=chebyshev, knn_classifier__n_neighbors=3, knn_classifier__p=2, knn_classifier__weights=uniform; total time=   0.0s\n",
      "[CV] END knn_classifier__leaf_size=1, knn_classifier__metric=chebyshev, knn_classifier__n_neighbors=7, knn_classifier__p=2, knn_classifier__weights=uniform; total time=   0.0s\n",
      "[CV] END knn_classifier__leaf_size=1, knn_classifier__metric=chebyshev, knn_classifier__n_neighbors=7, knn_classifier__p=2, knn_classifier__weights=uniform; total time=   0.0s\n",
      "[CV] END knn_classifier__leaf_size=1, knn_classifier__metric=chebyshev, knn_classifier__n_neighbors=7, knn_classifier__p=2, knn_classifier__weights=uniform; total time=   0.0s\n",
      "[CV] END knn_classifier__leaf_size=1, knn_classifier__metric=chebyshev, knn_classifier__n_neighbors=7, knn_classifier__p=2, knn_classifier__weights=uniform; total time=   0.0s\n",
      "[CV] END knn_classifier__leaf_size=1, knn_classifier__metric=chebyshev, knn_classifier__n_neighbors=7, knn_classifier__p=2, knn_classifier__weights=uniform; total time=   0.0s\n",
      "[CV] END knn_classifier__leaf_size=1, knn_classifier__metric=chebyshev, knn_classifier__n_neighbors=9, knn_classifier__p=1, knn_classifier__weights=uniform; total time=   0.0s\n",
      "[CV] END knn_classifier__leaf_size=1, knn_classifier__metric=chebyshev, knn_classifier__n_neighbors=9, knn_classifier__p=1, knn_classifier__weights=uniform; total time=   0.0s\n",
      "[CV] END knn_classifier__leaf_size=1, knn_classifier__metric=chebyshev, knn_classifier__n_neighbors=9, knn_classifier__p=1, knn_classifier__weights=uniform; total time=   0.0s\n",
      "[CV] END knn_classifier__leaf_size=1, knn_classifier__metric=chebyshev, knn_classifier__n_neighbors=9, knn_classifier__p=1, knn_classifier__weights=uniform; total time=   0.0s\n",
      "[CV] END knn_classifier__leaf_size=1, knn_classifier__metric=chebyshev, knn_classifier__n_neighbors=9, knn_classifier__p=1, knn_classifier__weights=uniform; total time=   0.0s\n",
      "{'RandomForestClassifier': RandomizedSearchCV(cv=5,\n",
      "                   estimator=Pipeline(steps=[('preprocessor',\n",
      "                                              ColumnTransformer(remainder='passthrough',\n",
      "                                                                transformers=[('numerical',\n",
      "                                                                               Pipeline(steps=[('imputer',\n",
      "                                                                                                SimpleImputer())]),\n",
      "                                                                               ['trestbps',\n",
      "                                                                                'chol',\n",
      "                                                                                'thalach'])])),\n",
      "                                             ('rf_classifier',\n",
      "                                              RandomForestClassifier())]),\n",
      "                   param_distributions={'rf_classifier__bootstrap': [True,\n",
      "                                                                     False],\n",
      "                                        'rf_classifier__max_depth': [None, 10,\n",
      "                                                                     20, 30],\n",
      "                                        'rf_classifier__max_features': ['auto',\n",
      "                                                                        'sqrt'],\n",
      "                                        'rf_classifier__min_samples_leaf': [1,\n",
      "                                                                            2,\n",
      "                                                                            4],\n",
      "                                        'rf_classifier__min_samples_split': [2,\n",
      "                                                                             5,\n",
      "                                                                             10],\n",
      "                                        'rf_classifier__n_estimators': array([10, 20, 30, 40, 50, 60, 70, 80, 90])},\n",
      "                   verbose=2), 'Logistic Regression': RandomizedSearchCV(cv=5,\n",
      "                   estimator=Pipeline(steps=[('preprocessor',\n",
      "                                              ColumnTransformer(remainder='passthrough',\n",
      "                                                                transformers=[('numerical',\n",
      "                                                                               Pipeline(steps=[('imputer',\n",
      "                                                                                                SimpleImputer())]),\n",
      "                                                                               ['trestbps',\n",
      "                                                                                'chol',\n",
      "                                                                                'thalach'])])),\n",
      "                                             ('log_regression',\n",
      "                                              LogisticRegression())]),\n",
      "                   param_distributions={'log_regression__C': [0.01, 0.1, 1, 10,\n",
      "                                                              100],\n",
      "                                        'log_regression__solver': ['liblinear',\n",
      "                                                                   'saga']},\n",
      "                   verbose=2), 'K-Nearest Neighbour': RandomizedSearchCV(cv=5,\n",
      "                   estimator=Pipeline(steps=[('preprocessor',\n",
      "                                              ColumnTransformer(remainder='passthrough',\n",
      "                                                                transformers=[('numerical',\n",
      "                                                                               Pipeline(steps=[('imputer',\n",
      "                                                                                                SimpleImputer())]),\n",
      "                                                                               ['trestbps',\n",
      "                                                                                'chol',\n",
      "                                                                                'thalach'])])),\n",
      "                                             ('knn_classifier',\n",
      "                                              KNeighborsClassifier())]),\n",
      "                   param_distributions={'knn_classifier__leaf_size': (20, 40,\n",
      "                                                                      1),\n",
      "                                        'knn_classifier__metric': ('minkowski',\n",
      "                                                                   'chebyshev'),\n",
      "                                        'knn_classifier__n_neighbors': [3, 5, 7,\n",
      "                                                                        9, 11],\n",
      "                                        'knn_classifier__p': (1, 2),\n",
      "                                        'knn_classifier__weights': ('uniform',\n",
      "                                                                    'distance')},\n",
      "                   verbose=2)}\n"
     ]
    }
   ],
   "source": [
    "# lets call the function to view the best params and accuracy of it\n",
    "np.random.seed(12)\n",
    "RsCV = RandomSearchCV(pipelines=pipelines, \n",
    "                      param_grid= param_grid,\n",
    "                      X_train=X_train,\n",
    "                      X_test=X_test,\n",
    "                      y_train=y_train, \n",
    "                      y_test=y_test)\n",
    "print(RsCV)"
   ]
  },
  {
   "cell_type": "code",
   "execution_count": 21,
   "id": "57667ce1-1117-4bfc-bcfd-2b006fcc88cc",
   "metadata": {},
   "outputs": [
    {
     "name": "stdout",
     "output_type": "stream",
     "text": [
      "RandomizedSearchCV Results:\n",
      "Best parameters for RandomForestClassifier: {'rf_classifier__n_estimators': 90, 'rf_classifier__min_samples_split': 2, 'rf_classifier__min_samples_leaf': 2, 'rf_classifier__max_features': 'sqrt', 'rf_classifier__max_depth': 10, 'rf_classifier__bootstrap': True}\n",
      "Best cross-validation score for RandomForestClassifier: 0.8264455782312925\n",
      "Best parameters for Logistic Regression: {'log_regression__solver': 'liblinear', 'log_regression__C': 1}\n",
      "Best cross-validation score for Logistic Regression: 0.8511054421768709\n",
      "Best parameters for K-Nearest Neighbour: {'knn_classifier__weights': 'uniform', 'knn_classifier__p': 1, 'knn_classifier__n_neighbors': 7, 'knn_classifier__metric': 'minkowski', 'knn_classifier__leaf_size': 20}\n",
      "Best cross-validation score for K-Nearest Neighbour: 0.6612244897959184\n"
     ]
    },
    {
     "data": {
      "text/html": [
       "<div>\n",
       "<style scoped>\n",
       "    .dataframe tbody tr th:only-of-type {\n",
       "        vertical-align: middle;\n",
       "    }\n",
       "\n",
       "    .dataframe tbody tr th {\n",
       "        vertical-align: top;\n",
       "    }\n",
       "\n",
       "    .dataframe thead th {\n",
       "        text-align: right;\n",
       "    }\n",
       "</style>\n",
       "<table border=\"1\" class=\"dataframe\">\n",
       "  <thead>\n",
       "    <tr style=\"text-align: right;\">\n",
       "      <th></th>\n",
       "      <th>RandomForestClassifier</th>\n",
       "      <th>Logistic Regression</th>\n",
       "      <th>K-Nearest Neighbour</th>\n",
       "    </tr>\n",
       "  </thead>\n",
       "  <tbody>\n",
       "    <tr>\n",
       "      <th>RandomizedSearchCV accuracy</th>\n",
       "      <td>0.826446</td>\n",
       "      <td>0.851105</td>\n",
       "      <td>0.661224</td>\n",
       "    </tr>\n",
       "  </tbody>\n",
       "</table>\n",
       "</div>"
      ],
      "text/plain": [
       "                             RandomForestClassifier  Logistic Regression  \\\n",
       "RandomizedSearchCV accuracy                0.826446             0.851105   \n",
       "\n",
       "                             K-Nearest Neighbour  \n",
       "RandomizedSearchCV accuracy             0.661224  "
      ]
     },
     "execution_count": 21,
     "metadata": {},
     "output_type": "execute_result"
    }
   ],
   "source": [
    "print(\"RandomizedSearchCV Results:\")\n",
    "rand_score = {}\n",
    "for model_name, random_search in RsCV.items():\n",
    "    print(f\"Best parameters for {model_name}: {random_search.best_params_}\")\n",
    "    print(f\"Best cross-validation score for {model_name}: {random_search.best_score_}\")\n",
    "    rand_score[model_name] = random_search.best_score_\n",
    "rand_model_dataframe = pd.DataFrame(rand_score, index = [\"RandomizedSearchCV accuracy\"])\n",
    "rand_model_dataframe"
   ]
  },
  {
   "cell_type": "code",
   "execution_count": 22,
   "id": "eda2fbdc-7ebc-43c6-b3ce-94f9ac9c3149",
   "metadata": {},
   "outputs": [
    {
     "data": {
      "text/plain": [
       "{'Logistic Regression': 0.7704918032786885,\n",
       " 'RandomForestClassifier': 0.8360655737704918,\n",
       " 'K-Nearest Neighbour': 0.6557377049180327}"
      ]
     },
     "execution_count": 22,
     "metadata": {},
     "output_type": "execute_result"
    }
   ],
   "source": [
    "model_scores"
   ]
  },
  {
   "cell_type": "code",
   "execution_count": 23,
   "id": "b61d2056-cb89-47b8-9380-b1a0b011513b",
   "metadata": {},
   "outputs": [
    {
     "name": "stderr",
     "output_type": "stream",
     "text": [
      "D:\\ML_Projects\\Heart-disease-project\\env\\Lib\\site-packages\\sklearn\\model_selection\\_validation.py:547: FitFailedWarning: \n",
      "3240 fits failed out of a total of 6480.\n",
      "The score on these train-test partitions for these parameters will be set to nan.\n",
      "If these failures are not expected, you can try to debug them by setting error_score='raise'.\n",
      "\n",
      "Below are more details about the failures:\n",
      "--------------------------------------------------------------------------------\n",
      "1925 fits failed with the following error:\n",
      "Traceback (most recent call last):\n",
      "  File \"D:\\ML_Projects\\Heart-disease-project\\env\\Lib\\site-packages\\sklearn\\model_selection\\_validation.py\", line 895, in _fit_and_score\n",
      "    estimator.fit(X_train, y_train, **fit_params)\n",
      "  File \"D:\\ML_Projects\\Heart-disease-project\\env\\Lib\\site-packages\\sklearn\\base.py\", line 1474, in wrapper\n",
      "    return fit_method(estimator, *args, **kwargs)\n",
      "           ^^^^^^^^^^^^^^^^^^^^^^^^^^^^^^^^^^^^^^\n",
      "  File \"D:\\ML_Projects\\Heart-disease-project\\env\\Lib\\site-packages\\sklearn\\pipeline.py\", line 475, in fit\n",
      "    self._final_estimator.fit(Xt, y, **last_step_params[\"fit\"])\n",
      "  File \"D:\\ML_Projects\\Heart-disease-project\\env\\Lib\\site-packages\\sklearn\\base.py\", line 1467, in wrapper\n",
      "    estimator._validate_params()\n",
      "  File \"D:\\ML_Projects\\Heart-disease-project\\env\\Lib\\site-packages\\sklearn\\base.py\", line 666, in _validate_params\n",
      "    validate_parameter_constraints(\n",
      "  File \"D:\\ML_Projects\\Heart-disease-project\\env\\Lib\\site-packages\\sklearn\\utils\\_param_validation.py\", line 95, in validate_parameter_constraints\n",
      "    raise InvalidParameterError(\n",
      "sklearn.utils._param_validation.InvalidParameterError: The 'max_features' parameter of RandomForestClassifier must be an int in the range [1, inf), a float in the range (0.0, 1.0], a str among {'log2', 'sqrt'} or None. Got 'auto' instead.\n",
      "\n",
      "--------------------------------------------------------------------------------\n",
      "1315 fits failed with the following error:\n",
      "Traceback (most recent call last):\n",
      "  File \"D:\\ML_Projects\\Heart-disease-project\\env\\Lib\\site-packages\\sklearn\\model_selection\\_validation.py\", line 895, in _fit_and_score\n",
      "    estimator.fit(X_train, y_train, **fit_params)\n",
      "  File \"D:\\ML_Projects\\Heart-disease-project\\env\\Lib\\site-packages\\sklearn\\base.py\", line 1474, in wrapper\n",
      "    return fit_method(estimator, *args, **kwargs)\n",
      "           ^^^^^^^^^^^^^^^^^^^^^^^^^^^^^^^^^^^^^^\n",
      "  File \"D:\\ML_Projects\\Heart-disease-project\\env\\Lib\\site-packages\\sklearn\\pipeline.py\", line 475, in fit\n",
      "    self._final_estimator.fit(Xt, y, **last_step_params[\"fit\"])\n",
      "  File \"D:\\ML_Projects\\Heart-disease-project\\env\\Lib\\site-packages\\sklearn\\base.py\", line 1467, in wrapper\n",
      "    estimator._validate_params()\n",
      "  File \"D:\\ML_Projects\\Heart-disease-project\\env\\Lib\\site-packages\\sklearn\\base.py\", line 666, in _validate_params\n",
      "    validate_parameter_constraints(\n",
      "  File \"D:\\ML_Projects\\Heart-disease-project\\env\\Lib\\site-packages\\sklearn\\utils\\_param_validation.py\", line 95, in validate_parameter_constraints\n",
      "    raise InvalidParameterError(\n",
      "sklearn.utils._param_validation.InvalidParameterError: The 'max_features' parameter of RandomForestClassifier must be an int in the range [1, inf), a float in the range (0.0, 1.0], a str among {'sqrt', 'log2'} or None. Got 'auto' instead.\n",
      "\n",
      "  warnings.warn(some_fits_failed_message, FitFailedWarning)\n",
      "D:\\ML_Projects\\Heart-disease-project\\env\\Lib\\site-packages\\sklearn\\model_selection\\_search.py:1051: UserWarning: One or more of the test scores are non-finite: [       nan        nan        nan ... 0.82219388 0.81802721 0.80986395]\n",
      "  warnings.warn(\n"
     ]
    },
    {
     "name": "stdout",
     "output_type": "stream",
     "text": [
      "{'RandomForestClassifier': GridSearchCV(cv=5,\n",
      "             estimator=Pipeline(steps=[('preprocessor',\n",
      "                                        ColumnTransformer(remainder='passthrough',\n",
      "                                                          transformers=[('numerical',\n",
      "                                                                         Pipeline(steps=[('imputer',\n",
      "                                                                                          SimpleImputer())]),\n",
      "                                                                         ['trestbps',\n",
      "                                                                          'chol',\n",
      "                                                                          'thalach'])])),\n",
      "                                       ('rf_classifier',\n",
      "                                        RandomForestClassifier())]),\n",
      "             n_jobs=-1,\n",
      "             param_grid={'rf_classifier__bootstrap': [True, False],\n",
      "                         'rf_classifier__max_depth': [None, 10, 20, 30],\n",
      "                         'rf_classifier__max_features': ['auto', 'sqrt'],\n",
      "                         'rf_classifier__min_samples_leaf': [1, 2, 4],\n",
      "                         'rf_classifier__min_samples_split': [2, 5, 10],\n",
      "                         'rf_classifier__n_estimators': array([10, 20, 30, 40, 50, 60, 70, 80, 90])}), 'Logistic Regression': GridSearchCV(cv=5,\n",
      "             estimator=Pipeline(steps=[('preprocessor',\n",
      "                                        ColumnTransformer(remainder='passthrough',\n",
      "                                                          transformers=[('numerical',\n",
      "                                                                         Pipeline(steps=[('imputer',\n",
      "                                                                                          SimpleImputer())]),\n",
      "                                                                         ['trestbps',\n",
      "                                                                          'chol',\n",
      "                                                                          'thalach'])])),\n",
      "                                       ('log_regression',\n",
      "                                        LogisticRegression())]),\n",
      "             n_jobs=-1,\n",
      "             param_grid={'log_regression__C': [0.01, 0.1, 1, 10, 100],\n",
      "                         'log_regression__solver': ['liblinear', 'saga']}), 'K-Nearest Neighbour': GridSearchCV(cv=5,\n",
      "             estimator=Pipeline(steps=[('preprocessor',\n",
      "                                        ColumnTransformer(remainder='passthrough',\n",
      "                                                          transformers=[('numerical',\n",
      "                                                                         Pipeline(steps=[('imputer',\n",
      "                                                                                          SimpleImputer())]),\n",
      "                                                                         ['trestbps',\n",
      "                                                                          'chol',\n",
      "                                                                          'thalach'])])),\n",
      "                                       ('knn_classifier',\n",
      "                                        KNeighborsClassifier())]),\n",
      "             n_jobs=-1,\n",
      "             param_grid={'knn_classifier__leaf_size': (20, 40, 1),\n",
      "                         'knn_classifier__metric': ('minkowski', 'chebyshev'),\n",
      "                         'knn_classifier__n_neighbors': [3, 5, 7, 9, 11],\n",
      "                         'knn_classifier__p': (1, 2),\n",
      "                         'knn_classifier__weights': ('uniform', 'distance')})}\n"
     ]
    }
   ],
   "source": [
    "np.random.seed(12)\n",
    "GsCV = Grid_searchCV(pipelines, param_grid, X_train,X_test, y_train, y_test)\n",
    "print(GsCV)"
   ]
  },
  {
   "cell_type": "code",
   "execution_count": 47,
   "id": "73c3516a-dd97-45c2-a4d3-230d2bd66122",
   "metadata": {},
   "outputs": [
    {
     "name": "stdout",
     "output_type": "stream",
     "text": [
      "GridSearchCV results :\n",
      "Best parameter for model RandomForestClassifier: {'rf_classifier__bootstrap': True, 'rf_classifier__max_depth': None, 'rf_classifier__max_features': 'sqrt', 'rf_classifier__min_samples_leaf': 4, 'rf_classifier__min_samples_split': 10, 'rf_classifier__n_estimators': 30}\n",
      "Best accuracy for model RandomForestClassifier: 0.8594387755102041\n",
      "Best parameter for model Logistic Regression: {'log_regression__C': 1, 'log_regression__solver': 'liblinear'}\n",
      "Best accuracy for model Logistic Regression: 0.8511054421768709\n",
      "Best parameter for model K-Nearest Neighbour: {'knn_classifier__leaf_size': 20, 'knn_classifier__metric': 'minkowski', 'knn_classifier__n_neighbors': 9, 'knn_classifier__p': 1, 'knn_classifier__weights': 'uniform'}\n",
      "Best accuracy for model K-Nearest Neighbour: 0.6980442176870748\n",
      "{'RandomForestClassifier': 0.8594387755102041, 'Logistic Regression': 0.8511054421768709, 'K-Nearest Neighbour': 0.6980442176870748}\n"
     ]
    },
    {
     "data": {
      "text/html": [
       "<div>\n",
       "<style scoped>\n",
       "    .dataframe tbody tr th:only-of-type {\n",
       "        vertical-align: middle;\n",
       "    }\n",
       "\n",
       "    .dataframe tbody tr th {\n",
       "        vertical-align: top;\n",
       "    }\n",
       "\n",
       "    .dataframe thead th {\n",
       "        text-align: right;\n",
       "    }\n",
       "</style>\n",
       "<table border=\"1\" class=\"dataframe\">\n",
       "  <thead>\n",
       "    <tr style=\"text-align: right;\">\n",
       "      <th></th>\n",
       "      <th>RandomForestClassifier</th>\n",
       "      <th>Logistic Regression</th>\n",
       "      <th>K-Nearest Neighbour</th>\n",
       "    </tr>\n",
       "  </thead>\n",
       "  <tbody>\n",
       "    <tr>\n",
       "      <th>GridSearchCV accuracy</th>\n",
       "      <td>0.859439</td>\n",
       "      <td>0.851105</td>\n",
       "      <td>0.698044</td>\n",
       "    </tr>\n",
       "  </tbody>\n",
       "</table>\n",
       "</div>"
      ],
      "text/plain": [
       "                       RandomForestClassifier  Logistic Regression  \\\n",
       "GridSearchCV accuracy                0.859439             0.851105   \n",
       "\n",
       "                       K-Nearest Neighbour  \n",
       "GridSearchCV accuracy             0.698044  "
      ]
     },
     "execution_count": 47,
     "metadata": {},
     "output_type": "execute_result"
    }
   ],
   "source": [
    "print(\"GridSearchCV results :\")\n",
    "grid_model_scores = {}\n",
    "grid_model_preds = {}\n",
    "grid_model_best_param = {}\n",
    "for model_name, grid_search in GsCV.items():\n",
    "    print(f\"Best parameter for model {model_name}: {grid_search.best_params_}\")\n",
    "    print(f\"Best accuracy for model {model_name}: {grid_search.best_score_}\")\n",
    "    grid_model_scores[model_name] = grid_search.best_score_\n",
    "    grid_model_best_param[model_name] = grid_search.best_params_\n",
    "    grid_model_preds[model_name] = grid_search.predict(X_test)\n",
    "print(grid_model_scores)\n",
    "grid_model_dataframe = pd.DataFrame(grid_model_scores, index = [\"GridSearchCV accuracy\"])\n",
    "grid_model_dataframe"
   ]
  },
  {
   "cell_type": "code",
   "execution_count": 25,
   "id": "f4793896-86a8-42ce-a403-58ed0c4396c7",
   "metadata": {},
   "outputs": [
    {
     "data": {
      "text/html": [
       "<div>\n",
       "<style scoped>\n",
       "    .dataframe tbody tr th:only-of-type {\n",
       "        vertical-align: middle;\n",
       "    }\n",
       "\n",
       "    .dataframe tbody tr th {\n",
       "        vertical-align: top;\n",
       "    }\n",
       "\n",
       "    .dataframe thead th {\n",
       "        text-align: right;\n",
       "    }\n",
       "</style>\n",
       "<table border=\"1\" class=\"dataframe\">\n",
       "  <thead>\n",
       "    <tr style=\"text-align: right;\">\n",
       "      <th></th>\n",
       "      <th>RandomForestClassifier</th>\n",
       "      <th>Logistic Regression</th>\n",
       "      <th>K-Nearest Neighbour</th>\n",
       "    </tr>\n",
       "  </thead>\n",
       "  <tbody>\n",
       "    <tr>\n",
       "      <th>RandomizedSearchCV accuracy</th>\n",
       "      <td>0.826446</td>\n",
       "      <td>0.851105</td>\n",
       "      <td>0.661224</td>\n",
       "    </tr>\n",
       "  </tbody>\n",
       "</table>\n",
       "</div>"
      ],
      "text/plain": [
       "                             RandomForestClassifier  Logistic Regression  \\\n",
       "RandomizedSearchCV accuracy                0.826446             0.851105   \n",
       "\n",
       "                             K-Nearest Neighbour  \n",
       "RandomizedSearchCV accuracy             0.661224  "
      ]
     },
     "execution_count": 25,
     "metadata": {},
     "output_type": "execute_result"
    }
   ],
   "source": [
    "rand_model_dataframe"
   ]
  },
  {
   "cell_type": "code",
   "execution_count": 26,
   "id": "6ab16f8c-3636-497b-8ddd-64ece30ad808",
   "metadata": {},
   "outputs": [
    {
     "data": {
      "text/html": [
       "<div>\n",
       "<style scoped>\n",
       "    .dataframe tbody tr th:only-of-type {\n",
       "        vertical-align: middle;\n",
       "    }\n",
       "\n",
       "    .dataframe tbody tr th {\n",
       "        vertical-align: top;\n",
       "    }\n",
       "\n",
       "    .dataframe thead th {\n",
       "        text-align: right;\n",
       "    }\n",
       "</style>\n",
       "<table border=\"1\" class=\"dataframe\">\n",
       "  <thead>\n",
       "    <tr style=\"text-align: right;\">\n",
       "      <th></th>\n",
       "      <th>Logistic Regression</th>\n",
       "      <th>RandomForestClassifier</th>\n",
       "      <th>K-Nearest Neighbour</th>\n",
       "    </tr>\n",
       "  </thead>\n",
       "  <tbody>\n",
       "    <tr>\n",
       "      <th>Baseline accuracy</th>\n",
       "      <td>0.770492</td>\n",
       "      <td>0.836066</td>\n",
       "      <td>0.655738</td>\n",
       "    </tr>\n",
       "  </tbody>\n",
       "</table>\n",
       "</div>"
      ],
      "text/plain": [
       "                   Logistic Regression  RandomForestClassifier  \\\n",
       "Baseline accuracy             0.770492                0.836066   \n",
       "\n",
       "                   K-Nearest Neighbour  \n",
       "Baseline accuracy             0.655738  "
      ]
     },
     "execution_count": 26,
     "metadata": {},
     "output_type": "execute_result"
    }
   ],
   "source": [
    "model_comparison"
   ]
  },
  {
   "cell_type": "code",
   "execution_count": 27,
   "id": "29a4cf03-c6df-4d3d-907d-e61f12569c93",
   "metadata": {},
   "outputs": [
    {
     "data": {
      "text/html": [
       "<div>\n",
       "<style scoped>\n",
       "    .dataframe tbody tr th:only-of-type {\n",
       "        vertical-align: middle;\n",
       "    }\n",
       "\n",
       "    .dataframe tbody tr th {\n",
       "        vertical-align: top;\n",
       "    }\n",
       "\n",
       "    .dataframe thead th {\n",
       "        text-align: right;\n",
       "    }\n",
       "</style>\n",
       "<table border=\"1\" class=\"dataframe\">\n",
       "  <thead>\n",
       "    <tr style=\"text-align: right;\">\n",
       "      <th></th>\n",
       "      <th>Logistic Regression</th>\n",
       "      <th>RandomForestClassifier</th>\n",
       "      <th>K-Nearest Neighbour</th>\n",
       "    </tr>\n",
       "  </thead>\n",
       "  <tbody>\n",
       "    <tr>\n",
       "      <th>Baseline accuracy</th>\n",
       "      <td>0.770492</td>\n",
       "      <td>0.836066</td>\n",
       "      <td>0.655738</td>\n",
       "    </tr>\n",
       "    <tr>\n",
       "      <th>RandomizedSearchCV accuracy</th>\n",
       "      <td>0.851105</td>\n",
       "      <td>0.826446</td>\n",
       "      <td>0.661224</td>\n",
       "    </tr>\n",
       "    <tr>\n",
       "      <th>GridSearchCV accuracy</th>\n",
       "      <td>0.851105</td>\n",
       "      <td>0.859439</td>\n",
       "      <td>0.698044</td>\n",
       "    </tr>\n",
       "  </tbody>\n",
       "</table>\n",
       "</div>"
      ],
      "text/plain": [
       "                             Logistic Regression  RandomForestClassifier  \\\n",
       "Baseline accuracy                       0.770492                0.836066   \n",
       "RandomizedSearchCV accuracy             0.851105                0.826446   \n",
       "GridSearchCV accuracy                   0.851105                0.859439   \n",
       "\n",
       "                             K-Nearest Neighbour  \n",
       "Baseline accuracy                       0.655738  \n",
       "RandomizedSearchCV accuracy             0.661224  \n",
       "GridSearchCV accuracy                   0.698044  "
      ]
     },
     "execution_count": 27,
     "metadata": {},
     "output_type": "execute_result"
    }
   ],
   "source": [
    "combined_dataframe = pd.concat([model_comparison, rand_model_dataframe, grid_model_dataframe])\n",
    "combined_dataframe"
   ]
  },
  {
   "cell_type": "code",
   "execution_count": 28,
   "id": "ec822ec4-2f0d-46ab-830b-9916188949ba",
   "metadata": {},
   "outputs": [
    {
     "data": {
      "image/png": "[encoded data removed]",
      "text/plain": [
       "<Figure size 1000x500 with 1 Axes>"
      ]
     },
     "metadata": {},
     "output_type": "display_data"
    }
   ],
   "source": [
    "combined_dataframe.T.plot(kind=\"bar\", figsize = (10, 5), title ='Model Accuracy Comparison ', legend ='Evaluation Method');\n",
    "##fig, ax = plt.subplots(figsize = (10, 5))\n",
    "#sns.barplot(data= combined_dataframe)\n",
    "#plt.title('Model Scores Across Different Datasets')\n",
    "#plt.show()"
   ]
  },
  {
   "cell_type": "code",
   "execution_count": 29,
   "id": "bd611073-950d-413d-9965-e128de80a499",
   "metadata": {},
   "outputs": [
    {
     "data": {
      "image/png": "[encoded data removed]",
      "text/plain": [
       "<Figure size 1000x500 with 1 Axes>"
      ]
     },
     "metadata": {},
     "output_type": "display_data"
    }
   ],
   "source": [
    "combined_dataframe.T.plot(kind=\"line\", figsize = (10, 5), title ='Model Accuracy Comparison ', legend ='Evaluation Method');"
   ]
  },
  {
   "cell_type": "markdown",
   "id": "36ce96a5-37cc-4d85-8acb-a687e2430e14",
   "metadata": {},
   "source": [
    "## Evaluating the tuned machine learning classifier, beyond acccuracy\n",
    "\n",
    "* ROC curve\n",
    "* Confusion Matrix\n",
    "* Classification report\n",
    "* Precision\n",
    "* Recall\n",
    "* F1-score\n",
    "\n",
    "**Precision**"
   ]
  },
  {
   "cell_type": "code",
   "execution_count": 33,
   "id": "a1daee45-e97c-40ca-9745-9946e2273309",
   "metadata": {},
   "outputs": [
    {
     "data": {
      "text/plain": [
       "{'RandomForestClassifier': array([1., 1., 1., 0., 0., 1., 1., 0., 0., 0., 1., 0., 0., 1., 1., 1., 0.,\n",
       "        0., 1., 0., 1., 0., 0., 1., 1., 0., 1., 1., 0., 0., 1., 1., 0., 1.,\n",
       "        1., 1., 0., 1., 1., 0., 0., 1., 1., 0., 1., 0., 0., 0., 1., 1., 1.,\n",
       "        1., 0., 0., 1., 0., 0., 1., 0., 0., 0.]),\n",
       " 'Logistic Regression': array([1., 1., 1., 0., 0., 1., 1., 0., 0., 0., 1., 0., 0., 1., 1., 1., 0.,\n",
       "        0., 1., 0., 1., 1., 0., 1., 1., 0., 1., 1., 1., 0., 1., 1., 0., 1.,\n",
       "        1., 1., 0., 1., 1., 0., 1., 1., 1., 0., 1., 0., 0., 0., 1., 1., 1.,\n",
       "        1., 1., 1., 1., 0., 0., 1., 0., 0., 0.]),\n",
       " 'K-Nearest Neighbour': array([1., 1., 1., 0., 0., 1., 1., 1., 0., 1., 1., 1., 0., 1., 1., 1., 0.,\n",
       "        1., 1., 1., 1., 1., 0., 1., 0., 1., 1., 1., 1., 0., 1., 1., 0., 1.,\n",
       "        1., 1., 1., 1., 1., 0., 0., 1., 1., 0., 1., 1., 0., 1., 1., 1., 1.,\n",
       "        0., 1., 0., 1., 0., 1., 1., 0., 0., 0.])}"
      ]
     },
     "execution_count": 33,
     "metadata": {},
     "output_type": "execute_result"
    }
   ],
   "source": [
    "grid_model_preds"
   ]
  },
  {
   "cell_type": "code",
   "execution_count": 66,
   "id": "2e72e53b-9c77-48d2-959a-e7e82c8b6a28",
   "metadata": {},
   "outputs": [
    {
     "name": "stdout",
     "output_type": "stream",
     "text": [
      "The Precision_scores for RandomForestClassifier : 0.7741935483870968\n",
      "The Precision_scores for Logistic Regression : 0.7222222222222222\n",
      "The Precision_scores for K-Nearest Neighbour : 0.5952380952380952\n"
     ]
    }
   ],
   "source": [
    "np.random.seed(12)\n",
    "Precision = {}\n",
    "for name, preds in grid_model_preds.items():\n",
    "    Precision[name] = precision_score(y_true=y_test, y_pred=preds)\n",
    "for name, preds in Precision.items():\n",
    "    print(f\"The Precision_scores for {name} : {preds}\")\n",
    "log_reg_preds = grid_model_preds[\"Logistic Regression\"]\n",
    "rand_cls_preds = grid_model_preds[\"RandomForestClassifier\"]"
   ]
  },
  {
   "cell_type": "markdown",
   "id": "7fb88a22-404a-4fe8-b2f7-bfb54007dbf1",
   "metadata": {},
   "source": [
    "**ROC Curve**"
   ]
  },
  {
   "cell_type": "code",
   "execution_count": 48,
   "id": "488c4042-7dcc-463c-84c8-0dc1f966f52e",
   "metadata": {},
   "outputs": [
    {
     "data": {
      "text/plain": [
       "{'RandomForestClassifier': {'rf_classifier__bootstrap': True,\n",
       "  'rf_classifier__max_depth': None,\n",
       "  'rf_classifier__max_features': 'sqrt',\n",
       "  'rf_classifier__min_samples_leaf': 4,\n",
       "  'rf_classifier__min_samples_split': 10,\n",
       "  'rf_classifier__n_estimators': 30},\n",
       " 'Logistic Regression': {'log_regression__C': 1,\n",
       "  'log_regression__solver': 'liblinear'},\n",
       " 'K-Nearest Neighbour': {'knn_classifier__leaf_size': 20,\n",
       "  'knn_classifier__metric': 'minkowski',\n",
       "  'knn_classifier__n_neighbors': 9,\n",
       "  'knn_classifier__p': 1,\n",
       "  'knn_classifier__weights': 'uniform'}}"
      ]
     },
     "execution_count": 48,
     "metadata": {},
     "output_type": "execute_result"
    }
   ],
   "source": [
    "grid_model_best_param"
   ]
  },
  {
   "cell_type": "code",
   "execution_count": 56,
   "id": "48c400ac-0c1b-4351-8b6e-09cabfb45f82",
   "metadata": {},
   "outputs": [
    {
     "data": {
      "image/png": "[encoded data removed]",
      "text/plain": [
       "<Figure size 640x480 with 1 Axes>"
      ]
     },
     "metadata": {},
     "output_type": "display_data"
    }
   ],
   "source": [
    "best_log_reg = GsCV[\"Logistic Regression\"].best_estimator_\n",
    "best_rand_cls = c\n",
    "RocCurveDisplay.from_estimator(best_log_reg, X_test, y_test);"
   ]
  },
  {
   "cell_type": "code",
   "execution_count": 59,
   "id": "c0c5060f-9044-4732-93ea-3904fd594c2c",
   "metadata": {},
   "outputs": [
    {
     "data": {
      "image/png": "[encoded data removed]",
      "text/plain": [
       "<Figure size 640x480 with 1 Axes>"
      ]
     },
     "metadata": {},
     "output_type": "display_data"
    }
   ],
   "source": [
    "RocCurveDisplay.from_estimator(best_rand_cls, X_test, y_test);"
   ]
  },
  {
   "cell_type": "markdown",
   "id": "0b469041-c9fb-4caa-b412-9af20b309f01",
   "metadata": {},
   "source": [
    "**Confusion Matrix**"
   ]
  },
  {
   "cell_type": "code",
   "execution_count": 63,
   "id": "4233732b-6d19-4e5e-92ac-374cd1783de5",
   "metadata": {},
   "outputs": [
    {
     "data": {
      "text/plain": [
       "array([[21, 10],\n",
       "       [ 4, 26]], dtype=int64)"
      ]
     },
     "execution_count": 63,
     "metadata": {},
     "output_type": "execute_result"
    }
   ],
   "source": [
    "confusion_matrix(y_test, log_reg_preds)"
   ]
  },
  {
   "cell_type": "code",
   "execution_count": 65,
   "id": "2bd70156-80e5-45b6-ae6c-e3c0782a3803",
   "metadata": {},
   "outputs": [
    {
     "name": "stdout",
     "output_type": "stream",
     "text": [
      "              precision    recall  f1-score   support\n",
      "\n",
      "         0.0       0.84      0.68      0.75        31\n",
      "         1.0       0.72      0.87      0.79        30\n",
      "\n",
      "    accuracy                           0.77        61\n",
      "   macro avg       0.78      0.77      0.77        61\n",
      "weighted avg       0.78      0.77      0.77        61\n",
      "\n"
     ]
    }
   ],
   "source": [
    "print(classification_report(y_test, log_reg_preds))"
   ]
  },
  {
   "cell_type": "code",
   "execution_count": 68,
   "id": "7d9f725a-c70b-4eff-b0b1-4c66870ba5e8",
   "metadata": {},
   "outputs": [
    {
     "name": "stdout",
     "output_type": "stream",
     "text": [
      "              precision    recall  f1-score   support\n",
      "\n",
      "         0.0       0.80      0.77      0.79        31\n",
      "         1.0       0.77      0.80      0.79        30\n",
      "\n",
      "    accuracy                           0.79        61\n",
      "   macro avg       0.79      0.79      0.79        61\n",
      "weighted avg       0.79      0.79      0.79        61\n",
      "\n"
     ]
    }
   ],
   "source": [
    "print(classification_report(y_test, rand_cls_preds))"
   ]
  },
  {
   "cell_type": "code",
   "execution_count": 73,
   "id": "2c2a5515-8082-4607-89ca-1b30c10beab8",
   "metadata": {},
   "outputs": [
    {
     "name": "stdout",
     "output_type": "stream",
     "text": [
      "Pipeline(steps=[('preprocessor',\n",
      "                 ColumnTransformer(remainder='passthrough',\n",
      "                                   transformers=[('numerical',\n",
      "                                                  Pipeline(steps=[('imputer',\n",
      "                                                                   SimpleImputer())]),\n",
      "                                                  ['trestbps', 'chol',\n",
      "                                                   'thalach'])])),\n",
      "                ('log_regression',\n",
      "                 LogisticRegression(C=1, solver='liblinear'))])\n"
     ]
    }
   ],
   "source": [
    "print(best_log_reg )"
   ]
  },
  {
   "cell_type": "code",
   "execution_count": 74,
   "id": "dabcf033-d031-40b8-89d2-7da6fc9b255f",
   "metadata": {},
   "outputs": [],
   "source": [
    "# create new classifier with best parameters \n",
    "clf_rand = RandomForestClassifier(min_samples_leaf=4, min_samples_split=10, n_estimators=30)\n",
    "log_reg = LogisticRegression(C=1, solver='liblinear')"
   ]
  },
  {
   "cell_type": "code",
   "execution_count": 115,
   "id": "f0805fe2-5d5b-4037-953b-dbc02e2d2da6",
   "metadata": {},
   "outputs": [
    {
     "data": {
      "text/plain": [
       "(0.8218032786885245, 0.8182513661202186)"
      ]
     },
     "execution_count": 115,
     "metadata": {},
     "output_type": "execute_result"
    }
   ],
   "source": [
    "## cross validate ACCURACY\n",
    "np.random.seed(12)\n",
    "cv_acc = cross_val_score(clf_rand, X, y, cv=5, scoring=\"accuracy\")# for randomforest\n",
    "cv_acc_2 = cross_val_score(log_reg, X, y, cv=5, scoring=\"accuracy\")# for logistic regression\n",
    "cv_acc,cv_acc_2\n",
    "cv_acc = np.mean(cv_acc)\n",
    "cv_acc_2 = np.mean(cv_acc_2)\n",
    "cv_acc, cv_acc_2"
   ]
  },
  {
   "cell_type": "code",
   "execution_count": 116,
   "id": "28a5252b-2f5d-4b28-9582-5fbc7b0b78d5",
   "metadata": {},
   "outputs": [
    {
     "data": {
      "text/plain": [
       "(0.8206006493506492, 0.8122549019607843)"
      ]
     },
     "execution_count": 116,
     "metadata": {},
     "output_type": "execute_result"
    }
   ],
   "source": [
    "# cross validate Precision\n",
    "np.random.seed(12)\n",
    "cv_precision = cross_val_score(clf_rand, X, y, cv=5, scoring=\"precision\")# for randomforest\n",
    "cv_precision_2 = cross_val_score(log_reg, X, y, cv=5, scoring=\"precision\")# for logistic regression\n",
    "cv_precision = np.mean(cv_precision)\n",
    "cv_precision_2 = np.mean(cv_precision_2)\n",
    "cv_precision, cv_precision_2"
   ]
  },
  {
   "cell_type": "code",
   "execution_count": 117,
   "id": "ac4fe062-5efc-4222-8566-d7b0a05cff5a",
   "metadata": {},
   "outputs": [
    {
     "data": {
      "text/plain": [
       "(0.8666666666666666, 0.8727272727272727)"
      ]
     },
     "execution_count": 117,
     "metadata": {},
     "output_type": "execute_result"
    }
   ],
   "source": [
    "# cross validate Recall\n",
    "np.random.seed(12)\n",
    "cv_recall = cross_val_score(clf_rand, X, y, cv=5, scoring=\"recall\")# for randomforest\n",
    "cv_recall_2 = cross_val_score(log_reg, X, y, cv=5, scoring=\"recall\")# for logistic regression\n",
    "cv_recall = np.mean(cv_recall)\n",
    "cv_recall_2 = np.mean(cv_recall_2)\n",
    "cv_recall, cv_recall_2"
   ]
  },
  {
   "cell_type": "code",
   "execution_count": 114,
   "id": "eac7ebcb-d817-468a-9ba4-89515cec4703",
   "metadata": {},
   "outputs": [
    {
     "data": {
      "text/plain": [
       "(0.8417755813887965, 0.8727272727272727)"
      ]
     },
     "execution_count": 114,
     "metadata": {},
     "output_type": "execute_result"
    }
   ],
   "source": [
    "# cross validate f1\n",
    "np.random.seed(12)\n",
    "cv_f1 = cross_val_score(clf_rand, X, y, cv=5, scoring=\"f1\")# for randomforest\n",
    "cv_f1_2 = cross_val_score(log_reg, X, y, cv=5, scoring=\"f1\")# for logistic regression\n",
    "cv_f1 = np.mean(cv_f1)\n",
    "cv_f1_2 = np.mean(cv_f1_2)\n",
    "cv_f1, cv_recall_2"
   ]
  },
  {
   "cell_type": "code",
   "execution_count": 137,
   "id": "63181c8b-4581-4419-a2b1-24f0201fdc4c",
   "metadata": {},
   "outputs": [
    {
     "data": {
      "image/png": "[encoded data removed]",
      "text/plain": [
       "<Figure size 640x480 with 1 Axes>"
      ]
     },
     "metadata": {},
     "output_type": "display_data"
    }
   ],
   "source": [
    "# Visualize as graph\n",
    "cv_metrics = pd.DataFrame({\"Accuracy\" : cv_acc,\n",
    "                           \"Precision\" :cv_precision,\n",
    "                           \"Recall\" : cv_recall,\n",
    "                           \"f1\" : cv_f1},\n",
    "                          index=[0])\n",
    "cv_metrics.T.plot(kind = \"bar\", title = \"Cross validation metrics for RandomForest classifer\", legend = False);"
   ]
  },
  {
   "cell_type": "markdown",
   "id": "eca9881b-ee98-489f-89b3-7e5cf9f7ed04",
   "metadata": {},
   "source": [
    "## Feature Importance \n",
    "\n",
    "Feature Importance is nothing but, \" which features contributed to the model prediction and how did they do\"\n",
    "\n",
    "Finding feature importance is different for each model\n",
    "\n",
    "Lets find the feature importance for RandFForest Classifier"
   ]
  },
  {
   "cell_type": "code",
   "execution_count": 119,
   "id": "f5e16832-aaaa-436a-a2d2-16cf9257a5e3",
   "metadata": {},
   "outputs": [
    {
     "data": {
      "text/html": [
       "<style>#sk-container-id-7 {\n",
       "  /* Definition of color scheme common for light and dark mode */\n",
       "  --sklearn-color-text: black;\n",
       "  --sklearn-color-line: gray;\n",
       "  /* Definition of color scheme for unfitted estimators */\n",
       "  --sklearn-color-unfitted-level-0: #fff5e6;\n",
       "  --sklearn-color-unfitted-level-1: #f6e4d2;\n",
       "  --sklearn-color-unfitted-level-2: #ffe0b3;\n",
       "  --sklearn-color-unfitted-level-3: chocolate;\n",
       "  /* Definition of color scheme for fitted estimators */\n",
       "  --sklearn-color-fitted-level-0: #f0f8ff;\n",
       "  --sklearn-color-fitted-level-1: #d4ebff;\n",
       "  --sklearn-color-fitted-level-2: #b3dbfd;\n",
       "  --sklearn-color-fitted-level-3: cornflowerblue;\n",
       "\n",
       "  /* Specific color for light theme */\n",
       "  --sklearn-color-text-on-default-background: var(--sg-text-color, var(--theme-code-foreground, var(--jp-content-font-color1, black)));\n",
       "  --sklearn-color-background: var(--sg-background-color, var(--theme-background, var(--jp-layout-color0, white)));\n",
       "  --sklearn-color-border-box: var(--sg-text-color, var(--theme-code-foreground, var(--jp-content-font-color1, black)));\n",
       "  --sklearn-color-icon: #696969;\n",
       "\n",
       "  @media (prefers-color-scheme: dark) {\n",
       "    /* Redefinition of color scheme for dark theme */\n",
       "    --sklearn-color-text-on-default-background: var(--sg-text-color, var(--theme-code-foreground, var(--jp-content-font-color1, white)));\n",
       "    --sklearn-color-background: var(--sg-background-color, var(--theme-background, var(--jp-layout-color0, #111)));\n",
       "    --sklearn-color-border-box: var(--sg-text-color, var(--theme-code-foreground, var(--jp-content-font-color1, white)));\n",
       "    --sklearn-color-icon: #878787;\n",
       "  }\n",
       "}\n",
       "\n",
       "#sk-container-id-7 {\n",
       "  color: var(--sklearn-color-text);\n",
       "}\n",
       "\n",
       "#sk-container-id-7 pre {\n",
       "  padding: 0;\n",
       "}\n",
       "\n",
       "#sk-container-id-7 input.sk-hidden--visually {\n",
       "  border: 0;\n",
       "  clip: rect(1px 1px 1px 1px);\n",
       "  clip: rect(1px, 1px, 1px, 1px);\n",
       "  height: 1px;\n",
       "  margin: -1px;\n",
       "  overflow: hidden;\n",
       "  padding: 0;\n",
       "  position: absolute;\n",
       "  width: 1px;\n",
       "}\n",
       "\n",
       "#sk-container-id-7 div.sk-dashed-wrapped {\n",
       "  border: 1px dashed var(--sklearn-color-line);\n",
       "  margin: 0 0.4em 0.5em 0.4em;\n",
       "  box-sizing: border-box;\n",
       "  padding-bottom: 0.4em;\n",
       "  background-color: var(--sklearn-color-background);\n",
       "}\n",
       "\n",
       "#sk-container-id-7 div.sk-container {\n",
       "  /* jupyter's `normalize.less` sets `[hidden] { display: none; }`\n",
       "     but bootstrap.min.css set `[hidden] { display: none !important; }`\n",
       "     so we also need the `!important` here to be able to override the\n",
       "     default hidden behavior on the sphinx rendered scikit-learn.org.\n",
       "     See: https://github.com/scikit-learn/scikit-learn/issues/21755 */\n",
       "  display: inline-block !important;\n",
       "  position: relative;\n",
       "}\n",
       "\n",
       "#sk-container-id-7 div.sk-text-repr-fallback {\n",
       "  display: none;\n",
       "}\n",
       "\n",
       "div.sk-parallel-item,\n",
       "div.sk-serial,\n",
       "div.sk-item {\n",
       "  /* draw centered vertical line to link estimators */\n",
       "  background-image: linear-gradient(var(--sklearn-color-text-on-default-background), var(--sklearn-color-text-on-default-background));\n",
       "  background-size: 2px 100%;\n",
       "  background-repeat: no-repeat;\n",
       "  background-position: center center;\n",
       "}\n",
       "\n",
       "/* Parallel-specific style estimator block */\n",
       "\n",
       "#sk-container-id-7 div.sk-parallel-item::after {\n",
       "  content: \"\";\n",
       "  width: 100%;\n",
       "  border-bottom: 2px solid var(--sklearn-color-text-on-default-background);\n",
       "  flex-grow: 1;\n",
       "}\n",
       "\n",
       "#sk-container-id-7 div.sk-parallel {\n",
       "  display: flex;\n",
       "  align-items: stretch;\n",
       "  justify-content: center;\n",
       "  background-color: var(--sklearn-color-background);\n",
       "  position: relative;\n",
       "}\n",
       "\n",
       "#sk-container-id-7 div.sk-parallel-item {\n",
       "  display: flex;\n",
       "  flex-direction: column;\n",
       "}\n",
       "\n",
       "#sk-container-id-7 div.sk-parallel-item:first-child::after {\n",
       "  align-self: flex-end;\n",
       "  width: 50%;\n",
       "}\n",
       "\n",
       "#sk-container-id-7 div.sk-parallel-item:last-child::after {\n",
       "  align-self: flex-start;\n",
       "  width: 50%;\n",
       "}\n",
       "\n",
       "#sk-container-id-7 div.sk-parallel-item:only-child::after {\n",
       "  width: 0;\n",
       "}\n",
       "\n",
       "/* Serial-specific style estimator block */\n",
       "\n",
       "#sk-container-id-7 div.sk-serial {\n",
       "  display: flex;\n",
       "  flex-direction: column;\n",
       "  align-items: center;\n",
       "  background-color: var(--sklearn-color-background);\n",
       "  padding-right: 1em;\n",
       "  padding-left: 1em;\n",
       "}\n",
       "\n",
       "\n",
       "/* Toggleable style: style used for estimator/Pipeline/ColumnTransformer box that is\n",
       "clickable and can be expanded/collapsed.\n",
       "- Pipeline and ColumnTransformer use this feature and define the default style\n",
       "- Estimators will overwrite some part of the style using the `sk-estimator` class\n",
       "*/\n",
       "\n",
       "/* Pipeline and ColumnTransformer style (default) */\n",
       "\n",
       "#sk-container-id-7 div.sk-toggleable {\n",
       "  /* Default theme specific background. It is overwritten whether we have a\n",
       "  specific estimator or a Pipeline/ColumnTransformer */\n",
       "  background-color: var(--sklearn-color-background);\n",
       "}\n",
       "\n",
       "/* Toggleable label */\n",
       "#sk-container-id-7 label.sk-toggleable__label {\n",
       "  cursor: pointer;\n",
       "  display: block;\n",
       "  width: 100%;\n",
       "  margin-bottom: 0;\n",
       "  padding: 0.5em;\n",
       "  box-sizing: border-box;\n",
       "  text-align: center;\n",
       "}\n",
       "\n",
       "#sk-container-id-7 label.sk-toggleable__label-arrow:before {\n",
       "  /* Arrow on the left of the label */\n",
       "  content: \"▸\";\n",
       "  float: left;\n",
       "  margin-right: 0.25em;\n",
       "  color: var(--sklearn-color-icon);\n",
       "}\n",
       "\n",
       "#sk-container-id-7 label.sk-toggleable__label-arrow:hover:before {\n",
       "  color: var(--sklearn-color-text);\n",
       "}\n",
       "\n",
       "/* Toggleable content - dropdown */\n",
       "\n",
       "#sk-container-id-7 div.sk-toggleable__content {\n",
       "  max-height: 0;\n",
       "  max-width: 0;\n",
       "  overflow: hidden;\n",
       "  text-align: left;\n",
       "  /* unfitted */\n",
       "  background-color: var(--sklearn-color-unfitted-level-0);\n",
       "}\n",
       "\n",
       "#sk-container-id-7 div.sk-toggleable__content.fitted {\n",
       "  /* fitted */\n",
       "  background-color: var(--sklearn-color-fitted-level-0);\n",
       "}\n",
       "\n",
       "#sk-container-id-7 div.sk-toggleable__content pre {\n",
       "  margin: 0.2em;\n",
       "  border-radius: 0.25em;\n",
       "  color: var(--sklearn-color-text);\n",
       "  /* unfitted */\n",
       "  background-color: var(--sklearn-color-unfitted-level-0);\n",
       "}\n",
       "\n",
       "#sk-container-id-7 div.sk-toggleable__content.fitted pre {\n",
       "  /* unfitted */\n",
       "  background-color: var(--sklearn-color-fitted-level-0);\n",
       "}\n",
       "\n",
       "#sk-container-id-7 input.sk-toggleable__control:checked~div.sk-toggleable__content {\n",
       "  /* Expand drop-down */\n",
       "  max-height: 200px;\n",
       "  max-width: 100%;\n",
       "  overflow: auto;\n",
       "}\n",
       "\n",
       "#sk-container-id-7 input.sk-toggleable__control:checked~label.sk-toggleable__label-arrow:before {\n",
       "  content: \"▾\";\n",
       "}\n",
       "\n",
       "/* Pipeline/ColumnTransformer-specific style */\n",
       "\n",
       "#sk-container-id-7 div.sk-label input.sk-toggleable__control:checked~label.sk-toggleable__label {\n",
       "  color: var(--sklearn-color-text);\n",
       "  background-color: var(--sklearn-color-unfitted-level-2);\n",
       "}\n",
       "\n",
       "#sk-container-id-7 div.sk-label.fitted input.sk-toggleable__control:checked~label.sk-toggleable__label {\n",
       "  background-color: var(--sklearn-color-fitted-level-2);\n",
       "}\n",
       "\n",
       "/* Estimator-specific style */\n",
       "\n",
       "/* Colorize estimator box */\n",
       "#sk-container-id-7 div.sk-estimator input.sk-toggleable__control:checked~label.sk-toggleable__label {\n",
       "  /* unfitted */\n",
       "  background-color: var(--sklearn-color-unfitted-level-2);\n",
       "}\n",
       "\n",
       "#sk-container-id-7 div.sk-estimator.fitted input.sk-toggleable__control:checked~label.sk-toggleable__label {\n",
       "  /* fitted */\n",
       "  background-color: var(--sklearn-color-fitted-level-2);\n",
       "}\n",
       "\n",
       "#sk-container-id-7 div.sk-label label.sk-toggleable__label,\n",
       "#sk-container-id-7 div.sk-label label {\n",
       "  /* The background is the default theme color */\n",
       "  color: var(--sklearn-color-text-on-default-background);\n",
       "}\n",
       "\n",
       "/* On hover, darken the color of the background */\n",
       "#sk-container-id-7 div.sk-label:hover label.sk-toggleable__label {\n",
       "  color: var(--sklearn-color-text);\n",
       "  background-color: var(--sklearn-color-unfitted-level-2);\n",
       "}\n",
       "\n",
       "/* Label box, darken color on hover, fitted */\n",
       "#sk-container-id-7 div.sk-label.fitted:hover label.sk-toggleable__label.fitted {\n",
       "  color: var(--sklearn-color-text);\n",
       "  background-color: var(--sklearn-color-fitted-level-2);\n",
       "}\n",
       "\n",
       "/* Estimator label */\n",
       "\n",
       "#sk-container-id-7 div.sk-label label {\n",
       "  font-family: monospace;\n",
       "  font-weight: bold;\n",
       "  display: inline-block;\n",
       "  line-height: 1.2em;\n",
       "}\n",
       "\n",
       "#sk-container-id-7 div.sk-label-container {\n",
       "  text-align: center;\n",
       "}\n",
       "\n",
       "/* Estimator-specific */\n",
       "#sk-container-id-7 div.sk-estimator {\n",
       "  font-family: monospace;\n",
       "  border: 1px dotted var(--sklearn-color-border-box);\n",
       "  border-radius: 0.25em;\n",
       "  box-sizing: border-box;\n",
       "  margin-bottom: 0.5em;\n",
       "  /* unfitted */\n",
       "  background-color: var(--sklearn-color-unfitted-level-0);\n",
       "}\n",
       "\n",
       "#sk-container-id-7 div.sk-estimator.fitted {\n",
       "  /* fitted */\n",
       "  background-color: var(--sklearn-color-fitted-level-0);\n",
       "}\n",
       "\n",
       "/* on hover */\n",
       "#sk-container-id-7 div.sk-estimator:hover {\n",
       "  /* unfitted */\n",
       "  background-color: var(--sklearn-color-unfitted-level-2);\n",
       "}\n",
       "\n",
       "#sk-container-id-7 div.sk-estimator.fitted:hover {\n",
       "  /* fitted */\n",
       "  background-color: var(--sklearn-color-fitted-level-2);\n",
       "}\n",
       "\n",
       "/* Specification for estimator info (e.g. \"i\" and \"?\") */\n",
       "\n",
       "/* Common style for \"i\" and \"?\" */\n",
       "\n",
       ".sk-estimator-doc-link,\n",
       "a:link.sk-estimator-doc-link,\n",
       "a:visited.sk-estimator-doc-link {\n",
       "  float: right;\n",
       "  font-size: smaller;\n",
       "  line-height: 1em;\n",
       "  font-family: monospace;\n",
       "  background-color: var(--sklearn-color-background);\n",
       "  border-radius: 1em;\n",
       "  height: 1em;\n",
       "  width: 1em;\n",
       "  text-decoration: none !important;\n",
       "  margin-left: 1ex;\n",
       "  /* unfitted */\n",
       "  border: var(--sklearn-color-unfitted-level-1) 1pt solid;\n",
       "  color: var(--sklearn-color-unfitted-level-1);\n",
       "}\n",
       "\n",
       ".sk-estimator-doc-link.fitted,\n",
       "a:link.sk-estimator-doc-link.fitted,\n",
       "a:visited.sk-estimator-doc-link.fitted {\n",
       "  /* fitted */\n",
       "  border: var(--sklearn-color-fitted-level-1) 1pt solid;\n",
       "  color: var(--sklearn-color-fitted-level-1);\n",
       "}\n",
       "\n",
       "/* On hover */\n",
       "div.sk-estimator:hover .sk-estimator-doc-link:hover,\n",
       ".sk-estimator-doc-link:hover,\n",
       "div.sk-label-container:hover .sk-estimator-doc-link:hover,\n",
       ".sk-estimator-doc-link:hover {\n",
       "  /* unfitted */\n",
       "  background-color: var(--sklearn-color-unfitted-level-3);\n",
       "  color: var(--sklearn-color-background);\n",
       "  text-decoration: none;\n",
       "}\n",
       "\n",
       "div.sk-estimator.fitted:hover .sk-estimator-doc-link.fitted:hover,\n",
       ".sk-estimator-doc-link.fitted:hover,\n",
       "div.sk-label-container:hover .sk-estimator-doc-link.fitted:hover,\n",
       ".sk-estimator-doc-link.fitted:hover {\n",
       "  /* fitted */\n",
       "  background-color: var(--sklearn-color-fitted-level-3);\n",
       "  color: var(--sklearn-color-background);\n",
       "  text-decoration: none;\n",
       "}\n",
       "\n",
       "/* Span, style for the box shown on hovering the info icon */\n",
       ".sk-estimator-doc-link span {\n",
       "  display: none;\n",
       "  z-index: 9999;\n",
       "  position: relative;\n",
       "  font-weight: normal;\n",
       "  right: .2ex;\n",
       "  padding: .5ex;\n",
       "  margin: .5ex;\n",
       "  width: min-content;\n",
       "  min-width: 20ex;\n",
       "  max-width: 50ex;\n",
       "  color: var(--sklearn-color-text);\n",
       "  box-shadow: 2pt 2pt 4pt #999;\n",
       "  /* unfitted */\n",
       "  background: var(--sklearn-color-unfitted-level-0);\n",
       "  border: .5pt solid var(--sklearn-color-unfitted-level-3);\n",
       "}\n",
       "\n",
       ".sk-estimator-doc-link.fitted span {\n",
       "  /* fitted */\n",
       "  background: var(--sklearn-color-fitted-level-0);\n",
       "  border: var(--sklearn-color-fitted-level-3);\n",
       "}\n",
       "\n",
       ".sk-estimator-doc-link:hover span {\n",
       "  display: block;\n",
       "}\n",
       "\n",
       "/* \"?\"-specific style due to the `<a>` HTML tag */\n",
       "\n",
       "#sk-container-id-7 a.estimator_doc_link {\n",
       "  float: right;\n",
       "  font-size: 1rem;\n",
       "  line-height: 1em;\n",
       "  font-family: monospace;\n",
       "  background-color: var(--sklearn-color-background);\n",
       "  border-radius: 1rem;\n",
       "  height: 1rem;\n",
       "  width: 1rem;\n",
       "  text-decoration: none;\n",
       "  /* unfitted */\n",
       "  color: var(--sklearn-color-unfitted-level-1);\n",
       "  border: var(--sklearn-color-unfitted-level-1) 1pt solid;\n",
       "}\n",
       "\n",
       "#sk-container-id-7 a.estimator_doc_link.fitted {\n",
       "  /* fitted */\n",
       "  border: var(--sklearn-color-fitted-level-1) 1pt solid;\n",
       "  color: var(--sklearn-color-fitted-level-1);\n",
       "}\n",
       "\n",
       "/* On hover */\n",
       "#sk-container-id-7 a.estimator_doc_link:hover {\n",
       "  /* unfitted */\n",
       "  background-color: var(--sklearn-color-unfitted-level-3);\n",
       "  color: var(--sklearn-color-background);\n",
       "  text-decoration: none;\n",
       "}\n",
       "\n",
       "#sk-container-id-7 a.estimator_doc_link.fitted:hover {\n",
       "  /* fitted */\n",
       "  background-color: var(--sklearn-color-fitted-level-3);\n",
       "}\n",
       "</style><div id=\"sk-container-id-7\" class=\"sk-top-container\"><div class=\"sk-text-repr-fallback\"><pre>RandomForestClassifier(min_samples_leaf=4, min_samples_split=10,\n",
       "                       n_estimators=30)</pre><b>In a Jupyter environment, please rerun this cell to show the HTML representation or trust the notebook. <br />On GitHub, the HTML representation is unable to render, please try loading this page with nbviewer.org.</b></div><div class=\"sk-container\" hidden><div class=\"sk-item\"><div class=\"sk-estimator fitted sk-toggleable\"><input class=\"sk-toggleable__control sk-hidden--visually\" id=\"sk-estimator-id-31\" type=\"checkbox\" checked><label for=\"sk-estimator-id-31\" class=\"sk-toggleable__label fitted sk-toggleable__label-arrow fitted\">&nbsp;&nbsp;RandomForestClassifier<a class=\"sk-estimator-doc-link fitted\" rel=\"noreferrer\" target=\"_blank\" href=\"https://scikit-learn.org/1.4/modules/generated/sklearn.ensemble.RandomForestClassifier.html\">?<span>Documentation for RandomForestClassifier</span></a><span class=\"sk-estimator-doc-link fitted\">i<span>Fitted</span></span></label><div class=\"sk-toggleable__content fitted\"><pre>RandomForestClassifier(min_samples_leaf=4, min_samples_split=10,\n",
       "                       n_estimators=30)</pre></div> </div></div></div></div>"
      ],
      "text/plain": [
       "RandomForestClassifier(min_samples_leaf=4, min_samples_split=10,\n",
       "                       n_estimators=30)"
      ]
     },
     "execution_count": 119,
     "metadata": {},
     "output_type": "execute_result"
    }
   ],
   "source": [
    "# Fit an instacnce of randomForestClassifier\n",
    "clf_rand.fit(X_train, y_train)"
   ]
  },
  {
   "cell_type": "code",
   "execution_count": 133,
   "id": "04a0e339-4a1f-462c-a4e0-a6262e5b61d7",
   "metadata": {},
   "outputs": [
    {
     "name": "stdout",
     "output_type": "stream",
     "text": [
      "     Feature  Gini Importance\n",
      "12      thal         0.195678\n",
      "9    oldpeak         0.136958\n",
      "2         cp         0.118419\n",
      "11        ca         0.118146\n",
      "7    thalach         0.115916\n",
      "8      exang         0.099432\n",
      "0        age         0.078506\n",
      "3   trestbps         0.055228\n",
      "4       chol         0.030961\n",
      "1        sex         0.023176\n",
      "10     slope         0.014043\n",
      "6    restecg         0.009907\n",
      "5        fbs         0.003631\n"
     ]
    }
   ],
   "source": [
    "importances = clf_rand.feature_importances_\n",
    "Features = [\"age\", \"sex\", \"cp\", \"trestbps\", \"chol\", \"fbs\", \"restecg\", \"thalach\", \"exang\", \"oldpeak\", \"slope\", \"ca\", \"thal\"]\n",
    "feature_imp_df = pd.DataFrame({'Feature':Features , 'Gini Importance': importances}).sort_values('Gini Importance', ascending=False) \n",
    "print(feature_imp_df)"
   ]
  },
  {
   "cell_type": "code",
   "execution_count": 135,
   "id": "7ee50f27-c98e-409f-9fa8-9605a52231ab",
   "metadata": {},
   "outputs": [
    {
     "data": {
      "image/png": "[encoded data removed]",
      "text/plain": [
       "<Figure size 800x400 with 1 Axes>"
      ]
     },
     "metadata": {},
     "output_type": "display_data"
    }
   ],
   "source": [
    "plt.figure(figsize=(8, 4))\n",
    "plt.barh(Features, importances, color='skyblue')\n",
    "plt.xlabel('Gini Importance')\n",
    "plt.title('Feature Importance - Gini Importance')\n",
    "plt.gca().invert_yaxis()  # Invert y-axis for better visualization\n",
    "plt.show()"
   ]
  },
  {
   "cell_type": "code",
   "execution_count": null,
   "id": "a59f9be0-0bc1-4d51-aa7e-25c72ea120d5",
   "metadata": {},
   "outputs": [],
   "source": []
  }
 ],
 "metadata": {
  "kernelspec": {
   "display_name": "Python 3 (ipykernel)",
   "language": "python",
   "name": "python3"
  },
  "language_info": {
   "codemirror_mode": {
    "name": "ipython",
    "version": 3
   },
   "file_extension": ".py",
   "mimetype": "text/x-python",
   "name": "python",
   "nbconvert_exporter": "python",
   "pygments_lexer": "ipython3",
   "version": "3.12.3"
  }
 },
 "nbformat": 4,
 "nbformat_minor": 5
}
